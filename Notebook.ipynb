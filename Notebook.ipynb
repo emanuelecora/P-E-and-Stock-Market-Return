{
 "cells": [
  {
   "cell_type": "markdown",
   "metadata": {},
   "source": [
    "# P/E ratio and Stock Market return"
   ]
  },
  {
   "cell_type": "markdown",
   "metadata": {},
   "source": [
    "This project's goal is to show the close relationship between P/E ratios in a given year and the return in the next 10 years from that given year.\n",
    "This data set consists of monthly stock price, dividends, and earnings data and the consumer price index (to allow conversion to real values), all starting January 1881.\n",
    "\n",
    "Stock price data are monthly averages of daily closing prices.\n",
    "\n",
    "I am using a Data set from Robert J. Shiller. http://www.econ.yale.edu/~shiller/data.htm.\n",
    "\n",
    "Emanuele Corà"
   ]
  },
  {
   "cell_type": "code",
   "execution_count": 1,
   "metadata": {},
   "outputs": [],
   "source": [
    "import pandas as pd\n",
    "import numpy as np\n",
    "import matplotlib.pyplot as plt\n",
    "from sklearn import linear_model"
   ]
  },
  {
   "cell_type": "code",
   "execution_count": 2,
   "metadata": {},
   "outputs": [],
   "source": [
    "df = pd.read_excel(\"ie_data.xls\", sheet_name=\"Data\", encoding=\"utf-8\")"
   ]
  },
  {
   "cell_type": "code",
   "execution_count": 3,
   "metadata": {},
   "outputs": [],
   "source": [
    "df.columns = [\"Date\", \"Price\", \"Dividends\", \"Earnings\", \"CPI\", \"Date Fraction\", \"Long Interest Rate GS10\", \n",
    "              \"Real price\", \"Real Dividend\", \"Real Total Return Price\", \"Real Earnings\", \"Real TR Scaled Earnings\", \n",
    "             \"CAPE ratio\", \"NAN1\", \"TR CAPE ratio\", \"NAN2\"]"
   ]
  },
  {
   "cell_type": "code",
   "execution_count": 4,
   "metadata": {},
   "outputs": [],
   "source": [
    "df = df[[\"Date\", \"Price\", \"Dividends\", \"Earnings\", \"Long Interest Rate GS10\", \"CAPE ratio\"]]"
   ]
  },
  {
   "cell_type": "code",
   "execution_count": 5,
   "metadata": {},
   "outputs": [],
   "source": [
    "df.dropna(inplace=True)"
   ]
  },
  {
   "cell_type": "code",
   "execution_count": 6,
   "metadata": {},
   "outputs": [],
   "source": [
    "df.drop([6], inplace=True)"
   ]
  },
  {
   "cell_type": "code",
   "execution_count": 7,
   "metadata": {},
   "outputs": [
    {
     "data": {
      "text/html": [
       "<div>\n",
       "<style scoped>\n",
       "    .dataframe tbody tr th:only-of-type {\n",
       "        vertical-align: middle;\n",
       "    }\n",
       "\n",
       "    .dataframe tbody tr th {\n",
       "        vertical-align: top;\n",
       "    }\n",
       "\n",
       "    .dataframe thead th {\n",
       "        text-align: right;\n",
       "    }\n",
       "</style>\n",
       "<table border=\"1\" class=\"dataframe\">\n",
       "  <thead>\n",
       "    <tr style=\"text-align: right;\">\n",
       "      <th></th>\n",
       "      <th>Date</th>\n",
       "      <th>Price</th>\n",
       "      <th>Dividends</th>\n",
       "      <th>Earnings</th>\n",
       "      <th>Long Interest Rate GS10</th>\n",
       "      <th>CAPE ratio</th>\n",
       "    </tr>\n",
       "  </thead>\n",
       "  <tbody>\n",
       "    <tr>\n",
       "      <th>127</th>\n",
       "      <td>1881.01</td>\n",
       "      <td>6.19</td>\n",
       "      <td>0.265</td>\n",
       "      <td>0.4858</td>\n",
       "      <td>3.7</td>\n",
       "      <td>18.474</td>\n",
       "    </tr>\n",
       "    <tr>\n",
       "      <th>128</th>\n",
       "      <td>1881.02</td>\n",
       "      <td>6.17</td>\n",
       "      <td>0.27</td>\n",
       "      <td>0.4817</td>\n",
       "      <td>3.69333</td>\n",
       "      <td>18.1473</td>\n",
       "    </tr>\n",
       "    <tr>\n",
       "      <th>129</th>\n",
       "      <td>1881.03</td>\n",
       "      <td>6.24</td>\n",
       "      <td>0.275</td>\n",
       "      <td>0.4775</td>\n",
       "      <td>3.68667</td>\n",
       "      <td>18.2701</td>\n",
       "    </tr>\n",
       "    <tr>\n",
       "      <th>130</th>\n",
       "      <td>1881.04</td>\n",
       "      <td>6.22</td>\n",
       "      <td>0.28</td>\n",
       "      <td>0.4733</td>\n",
       "      <td>3.68</td>\n",
       "      <td>17.9501</td>\n",
       "    </tr>\n",
       "    <tr>\n",
       "      <th>131</th>\n",
       "      <td>1881.05</td>\n",
       "      <td>6.5</td>\n",
       "      <td>0.285</td>\n",
       "      <td>0.4692</td>\n",
       "      <td>3.67333</td>\n",
       "      <td>18.8697</td>\n",
       "    </tr>\n",
       "    <tr>\n",
       "      <th>...</th>\n",
       "      <td>...</td>\n",
       "      <td>...</td>\n",
       "      <td>...</td>\n",
       "      <td>...</td>\n",
       "      <td>...</td>\n",
       "      <td>...</td>\n",
       "    </tr>\n",
       "    <tr>\n",
       "      <th>1796</th>\n",
       "      <td>2020.02</td>\n",
       "      <td>3277.31</td>\n",
       "      <td>59.1337</td>\n",
       "      <td>124.043</td>\n",
       "      <td>1.5</td>\n",
       "      <td>30.7297</td>\n",
       "    </tr>\n",
       "    <tr>\n",
       "      <th>1797</th>\n",
       "      <td>2020.03</td>\n",
       "      <td>2652.39</td>\n",
       "      <td>59.5806</td>\n",
       "      <td>116.33</td>\n",
       "      <td>0.87</td>\n",
       "      <td>24.8172</td>\n",
       "    </tr>\n",
       "    <tr>\n",
       "      <th>1798</th>\n",
       "      <td>2020.04</td>\n",
       "      <td>2761.98</td>\n",
       "      <td>59.6137</td>\n",
       "      <td>110.083</td>\n",
       "      <td>0.66</td>\n",
       "      <td>25.9274</td>\n",
       "    </tr>\n",
       "    <tr>\n",
       "      <th>1799</th>\n",
       "      <td>2020.05</td>\n",
       "      <td>2919.61</td>\n",
       "      <td>59.6469</td>\n",
       "      <td>103.103</td>\n",
       "      <td>0.67</td>\n",
       "      <td>27.3296</td>\n",
       "    </tr>\n",
       "    <tr>\n",
       "      <th>1800</th>\n",
       "      <td>2020.06</td>\n",
       "      <td>3104.66</td>\n",
       "      <td>59.68</td>\n",
       "      <td>96.49</td>\n",
       "      <td>0.73</td>\n",
       "      <td>28.8436</td>\n",
       "    </tr>\n",
       "  </tbody>\n",
       "</table>\n",
       "<p>1674 rows × 6 columns</p>\n",
       "</div>"
      ],
      "text/plain": [
       "         Date    Price Dividends Earnings Long Interest Rate GS10 CAPE ratio\n",
       "127   1881.01     6.19     0.265   0.4858                     3.7     18.474\n",
       "128   1881.02     6.17      0.27   0.4817                 3.69333    18.1473\n",
       "129   1881.03     6.24     0.275   0.4775                 3.68667    18.2701\n",
       "130   1881.04     6.22      0.28   0.4733                    3.68    17.9501\n",
       "131   1881.05      6.5     0.285   0.4692                 3.67333    18.8697\n",
       "...       ...      ...       ...      ...                     ...        ...\n",
       "1796  2020.02  3277.31   59.1337  124.043                     1.5    30.7297\n",
       "1797  2020.03  2652.39   59.5806   116.33                    0.87    24.8172\n",
       "1798  2020.04  2761.98   59.6137  110.083                    0.66    25.9274\n",
       "1799  2020.05  2919.61   59.6469  103.103                    0.67    27.3296\n",
       "1800  2020.06  3104.66     59.68    96.49                    0.73    28.8436\n",
       "\n",
       "[1674 rows x 6 columns]"
      ]
     },
     "execution_count": 7,
     "metadata": {},
     "output_type": "execute_result"
    }
   ],
   "source": [
    "df"
   ]
  },
  {
   "cell_type": "code",
   "execution_count": 8,
   "metadata": {},
   "outputs": [],
   "source": [
    "df[\"P/E ratio\"] = df[\"Price\"] / df[\"Earnings\"]"
   ]
  },
  {
   "cell_type": "code",
   "execution_count": 9,
   "metadata": {},
   "outputs": [],
   "source": [
    "df['Date'] = df['Date'].astype(str)"
   ]
  },
  {
   "cell_type": "code",
   "execution_count": 10,
   "metadata": {},
   "outputs": [],
   "source": [
    "df[\"len\"] = df[\"Date\"].apply(len)\n",
    "df[\"Date\"] = df[\"Date\"].where(df[\"len\"] == 7, df[\"Date\"] + \"0\")"
   ]
  },
  {
   "cell_type": "code",
   "execution_count": 11,
   "metadata": {},
   "outputs": [],
   "source": [
    "df.drop(columns=\"len\", inplace=True)"
   ]
  },
  {
   "cell_type": "code",
   "execution_count": 12,
   "metadata": {},
   "outputs": [
    {
     "name": "stdout",
     "output_type": "stream",
     "text": [
      "(1674, 7)\n"
     ]
    },
    {
     "data": {
      "text/html": [
       "<div>\n",
       "<style scoped>\n",
       "    .dataframe tbody tr th:only-of-type {\n",
       "        vertical-align: middle;\n",
       "    }\n",
       "\n",
       "    .dataframe tbody tr th {\n",
       "        vertical-align: top;\n",
       "    }\n",
       "\n",
       "    .dataframe thead th {\n",
       "        text-align: right;\n",
       "    }\n",
       "</style>\n",
       "<table border=\"1\" class=\"dataframe\">\n",
       "  <thead>\n",
       "    <tr style=\"text-align: right;\">\n",
       "      <th></th>\n",
       "      <th>Date</th>\n",
       "      <th>Price</th>\n",
       "      <th>Dividends</th>\n",
       "      <th>Earnings</th>\n",
       "      <th>Long Interest Rate GS10</th>\n",
       "      <th>CAPE ratio</th>\n",
       "      <th>P/E ratio</th>\n",
       "    </tr>\n",
       "  </thead>\n",
       "  <tbody>\n",
       "    <tr>\n",
       "      <th>127</th>\n",
       "      <td>1881.01</td>\n",
       "      <td>6.19</td>\n",
       "      <td>0.265</td>\n",
       "      <td>0.4858</td>\n",
       "      <td>3.7</td>\n",
       "      <td>18.474</td>\n",
       "      <td>12.7419</td>\n",
       "    </tr>\n",
       "    <tr>\n",
       "      <th>128</th>\n",
       "      <td>1881.02</td>\n",
       "      <td>6.17</td>\n",
       "      <td>0.27</td>\n",
       "      <td>0.4817</td>\n",
       "      <td>3.69333</td>\n",
       "      <td>18.1473</td>\n",
       "      <td>12.8088</td>\n",
       "    </tr>\n",
       "    <tr>\n",
       "      <th>129</th>\n",
       "      <td>1881.03</td>\n",
       "      <td>6.24</td>\n",
       "      <td>0.275</td>\n",
       "      <td>0.4775</td>\n",
       "      <td>3.68667</td>\n",
       "      <td>18.2701</td>\n",
       "      <td>13.0681</td>\n",
       "    </tr>\n",
       "    <tr>\n",
       "      <th>130</th>\n",
       "      <td>1881.04</td>\n",
       "      <td>6.22</td>\n",
       "      <td>0.28</td>\n",
       "      <td>0.4733</td>\n",
       "      <td>3.68</td>\n",
       "      <td>17.9501</td>\n",
       "      <td>13.1418</td>\n",
       "    </tr>\n",
       "    <tr>\n",
       "      <th>131</th>\n",
       "      <td>1881.05</td>\n",
       "      <td>6.5</td>\n",
       "      <td>0.285</td>\n",
       "      <td>0.4692</td>\n",
       "      <td>3.67333</td>\n",
       "      <td>18.8697</td>\n",
       "      <td>13.8534</td>\n",
       "    </tr>\n",
       "  </tbody>\n",
       "</table>\n",
       "</div>"
      ],
      "text/plain": [
       "        Date Price Dividends Earnings Long Interest Rate GS10 CAPE ratio  \\\n",
       "127  1881.01  6.19     0.265   0.4858                     3.7     18.474   \n",
       "128  1881.02  6.17      0.27   0.4817                 3.69333    18.1473   \n",
       "129  1881.03  6.24     0.275   0.4775                 3.68667    18.2701   \n",
       "130  1881.04  6.22      0.28   0.4733                    3.68    17.9501   \n",
       "131  1881.05   6.5     0.285   0.4692                 3.67333    18.8697   \n",
       "\n",
       "    P/E ratio  \n",
       "127   12.7419  \n",
       "128   12.8088  \n",
       "129   13.0681  \n",
       "130   13.1418  \n",
       "131   13.8534  "
      ]
     },
     "execution_count": 12,
     "metadata": {},
     "output_type": "execute_result"
    }
   ],
   "source": [
    "print(df.shape)\n",
    "df.head()"
   ]
  },
  {
   "cell_type": "code",
   "execution_count": 13,
   "metadata": {},
   "outputs": [],
   "source": [
    "df[\"Date\"] = pd.to_datetime(df[\"Date\"], format='%Y.%m')\n",
    "df = df.set_index(\"Date\")"
   ]
  },
  {
   "cell_type": "code",
   "execution_count": 14,
   "metadata": {},
   "outputs": [],
   "source": [
    "df30y = df.tail(366)\n",
    "df_ = df.head(1674-366)"
   ]
  },
  {
   "cell_type": "code",
   "execution_count": 15,
   "metadata": {
    "scrolled": false
   },
   "outputs": [
    {
     "data": {
      "image/png": "[encoded data removed]",
      "text/plain": [
       "<Figure size 432x288 with 1 Axes>"
      ]
     },
     "metadata": {
      "needs_background": "light"
     },
     "output_type": "display_data"
    },
    {
     "data": {
      "image/png": "[encoded data removed]",
      "text/plain": [
       "<Figure size 432x288 with 1 Axes>"
      ]
     },
     "metadata": {
      "needs_background": "light"
     },
     "output_type": "display_data"
    },
    {
     "name": "stdout",
     "output_type": "stream",
     "text": [
      "The average P/E ratio for stocks in the S&P500 has been:  16.123217668551018\n",
      "The average P/E ratio (1881-1990):  13.834232941121705\n",
      "The average P/E ratio (1990-2020):  24.303523743626197\n"
     ]
    },
    {
     "data": {
      "image/png": "[encoded data removed]",
      "text/plain": [
       "<Figure size 432x288 with 1 Axes>"
      ]
     },
     "metadata": {
      "needs_background": "light"
     },
     "output_type": "display_data"
    },
    {
     "name": "stdout",
     "output_type": "stream",
     "text": [
      "The highest level in Long Interest Rates GS10 is  15.32  in  [datetime.date(1981, 9, 1)]\n"
     ]
    },
    {
     "data": {
      "image/png": "[encoded data removed]",
      "text/plain": [
       "<Figure size 432x288 with 1 Axes>"
      ]
     },
     "metadata": {
      "needs_background": "light"
     },
     "output_type": "display_data"
    },
    {
     "name": "stdout",
     "output_type": "stream",
     "text": [
      "The highest P/E ratio in the last 30 years is:  123.73080438756855  in [datetime.date(2009, 5, 1)]\n"
     ]
    }
   ],
   "source": [
    "df[\"Price\"].plot()\n",
    "plt.title(\"1) S&P500 Composite - Historical Prices\")\n",
    "plt.xlabel(\"Date\")\n",
    "plt.ylabel(\"Price\")\n",
    "plt.show()\n",
    "df[\"P/E ratio\"].plot()\n",
    "plt.title(\"2) S&P500 Composite - P/E ratio\")\n",
    "plt.xlabel(\"Date\")\n",
    "plt.ylabel(\"P/E ratio\")\n",
    "plt.show()\n",
    "pe_avg = df[\"P/E ratio\"].mean()\n",
    "print(\"The average P/E ratio for stocks in the S&P500 has been: \", pe_avg)\n",
    "print(\"The average P/E ratio (1881-1990): \", df_[\"P/E ratio\"].mean())\n",
    "print(\"The average P/E ratio (1990-2020): \", df30y[\"P/E ratio\"].mean())\n",
    "df[\"Long Interest Rate GS10\"].plot()\n",
    "plt.title(\"3) S&P500 Composite - Long Interest Rate GS10\")\n",
    "plt.xlabel(\"Date\")\n",
    "plt.ylabel(\"Long Interest Rate GS10\")\n",
    "plt.show()\n",
    "interest_rates_max = df[\"Long Interest Rate GS10\"].max()\n",
    "print(\"The highest level in Long Interest Rates GS10 is \", \n",
    "      interest_rates_max, \" in \" ,\n",
    "      df.index.date[df[\"Long Interest Rate GS10\"] == interest_rates_max])\n",
    "\n",
    "thirty_year_max = df30y[\"P/E ratio\"].max()\n",
    "date_30y_max = df30y.index.date[df30y[\"P/E ratio\"] == thirty_year_max]\n",
    "df30y[\"P/E ratio\"].plot()\n",
    "plt.scatter(date_30y_max, thirty_year_max, color=\"red\")\n",
    "plt.title(\"4) S&P500 Composite - P/E ratio since 1990\")\n",
    "plt.xlabel(\"Date\")\n",
    "plt.ylabel(\"P/E ratio\")\n",
    "plt.show()\n",
    "print(\"The highest P/E ratio in the last 30 years is: \", thirty_year_max, \" in\",\n",
    "      date_30y_max)"
   ]
  },
  {
   "cell_type": "markdown",
   "metadata": {},
   "source": [
    "The image 1) shows the historical S&P500 Composite's prices since 1881. We can see in the last 30 years there were 3 bull markets and 2 market crashes during the dot-com bubble in early 2000s and the financial crisis in 2008.\n",
    "\n",
    "The second image shows P/E ratio of the S&P500 in the same time period. The P/E ratio is equal to the price divided by the TTM (trailing-twelve-months) earnings and can be used by investors to understand whether a stock or the entire market is or is not overvalued.\n",
    "For example, a above average S&P500, P/E ratio may indicate that the market is overvalued. Instead, when P/E ratio is below average, the market might be undervalued. \n",
    "We cannot consider P/E ratio as an absolute metric because the market is influenced heavily by other factors.\n",
    "Interest rates can help us understand the reason why P/E ratio in the last 30 years has been usually higher than the previous P/E ratios (The average P/E ratio from 1881 to 1990 had been 13.8 while from 1990 to 2020 has been 24.3).\n",
    "Interest rates peaked in 1981 and had been decreasing steadily until 2020 when they hit almost 0. But, what does interest rates mean for stocks? \n",
    "When the interest are lower, future cash flow are discounted with a lower discount rate to find the present value of those future cash flows. That makes future cash flows more valuable. In 2020 we have interest rates near to 0, which means that the risk-free rate (10 year treasury bond's yield) is almost 0, which means the discount rate is equal to the risk premium.\n",
    "If there is no return in Tresury Bonds (or a negative real return) investors have to invest in equity. That could cause high valuation like the one we are seeing in the last 30 years.\n",
    "\n",
    "P/E ratio is not the better metrics to use to evaluate the market. We can see that the highest P/E ratio in the last 30 years has been in 2009 at a ratio of 123. The markets seem to be extremely overvalued but, instead, it was just the beginning of one of the greatest bull markets in history that last until March 2020, when the market crashed due to Covid-19 pandemic.\n",
    "\n",
    "Another metric has performed better than P/E ratio. This metric is the CAPE ratio."
   ]
  },
  {
   "cell_type": "code",
   "execution_count": 16,
   "metadata": {},
   "outputs": [
    {
     "data": {
      "image/png": "[encoded data removed]",
      "text/plain": [
       "<Figure size 432x288 with 1 Axes>"
      ]
     },
     "metadata": {
      "needs_background": "light"
     },
     "output_type": "display_data"
    },
    {
     "name": "stdout",
     "output_type": "stream",
     "text": [
      "The CAPE ratio was at its lows in [datetime.date(1920, 12, 1)]  at  4.7842410450832515\n",
      "The CAPE ratio was at its lows in [datetime.date(1999, 12, 1)]  at  44.19793976104054\n",
      "In 1929 the market peaked at 32.563788598776696\n"
     ]
    }
   ],
   "source": [
    "fig, ax = plt.subplots()\n",
    "\n",
    "min_ = df[\"CAPE ratio\"].min()\n",
    "date_min = df.index.date[df[\"CAPE ratio\"] == min_]\n",
    "max_ = df[\"CAPE ratio\"].max()\n",
    "date_max = df.index.date[df[\"CAPE ratio\"] == max_]\n",
    "crash_29_max = df[\"CAPE ratio\"].where((df.index.year == 1929)).max()\n",
    "\n",
    "ax.plot(df[\"CAPE ratio\"])\n",
    "ax.scatter(date_min, min_, color=\"red\", label=\"MIN\")\n",
    "ax.scatter(date_max, max_, color=\"orange\", label=\"MAX\")\n",
    "plt.title(\"S&P500 Composite - CAPE ratio\")\n",
    "plt.xlabel(\"Date\")\n",
    "plt.ylabel(\"CAPE ratio\")\n",
    "ax.legend()\n",
    "plt.show()\n",
    "print(\"The CAPE ratio was at its lows in\", date_min, \" at \", min_)\n",
    "print(\"The CAPE ratio was at its lows in\", date_max, \" at \", max_)\n",
    "print(\"In 1929 the market peaked at\", crash_29_max)"
   ]
  },
  {
   "cell_type": "markdown",
   "metadata": {},
   "source": [
    "The CAPE ratio or Cyclically Adjusted P/E ratio was popularized by Robert J. Shiller at the Yale University because it predicted with accuracy whether the market was overvalued or not.\n",
    "The CAPE ratio is equal to P/E ratio but it uses real earnings per share(adjusted for inflation) over a ten year period, in order to smooth out fluctuation in profit that occurs in the business cycle.\n",
    "When the CAPE ratio is high (for example, in 1929, 2000) it means that the market is overvalued. Instead when the CAPE ratio is low, the market is undervalued.\n",
    "The CAPE ratio predicted the second greatest bull market in history that ended in 1929 when CAPE ratio peaked at 32.5.\n",
    "In the early 1980s the market started his greated bull market that lasted until 2000 when the market crashed after the dot-com bubble that brought CAPE ratio at an insane level of 44.2 in 1999.\n",
    "As we can see CAPE ratio performed very well at evaluating the market."
   ]
  },
  {
   "cell_type": "code",
   "execution_count": 17,
   "metadata": {},
   "outputs": [],
   "source": [
    "df[\"Year\"] = df.index.year"
   ]
  },
  {
   "cell_type": "code",
   "execution_count": 18,
   "metadata": {},
   "outputs": [
    {
     "data": {
      "text/html": [
       "<div>\n",
       "<style scoped>\n",
       "    .dataframe tbody tr th:only-of-type {\n",
       "        vertical-align: middle;\n",
       "    }\n",
       "\n",
       "    .dataframe tbody tr th {\n",
       "        vertical-align: top;\n",
       "    }\n",
       "\n",
       "    .dataframe thead th {\n",
       "        text-align: right;\n",
       "    }\n",
       "</style>\n",
       "<table border=\"1\" class=\"dataframe\">\n",
       "  <thead>\n",
       "    <tr style=\"text-align: right;\">\n",
       "      <th></th>\n",
       "      <th>Price</th>\n",
       "      <th>Dividends</th>\n",
       "      <th>Earnings</th>\n",
       "      <th>Long Interest Rate GS10</th>\n",
       "      <th>CAPE ratio</th>\n",
       "      <th>P/E ratio</th>\n",
       "      <th>Year</th>\n",
       "    </tr>\n",
       "    <tr>\n",
       "      <th>Date</th>\n",
       "      <th></th>\n",
       "      <th></th>\n",
       "      <th></th>\n",
       "      <th></th>\n",
       "      <th></th>\n",
       "      <th></th>\n",
       "      <th></th>\n",
       "    </tr>\n",
       "  </thead>\n",
       "  <tbody>\n",
       "    <tr>\n",
       "      <th>1881-01-01</th>\n",
       "      <td>6.19</td>\n",
       "      <td>0.265</td>\n",
       "      <td>0.4858</td>\n",
       "      <td>3.7</td>\n",
       "      <td>18.474</td>\n",
       "      <td>12.7419</td>\n",
       "      <td>1881</td>\n",
       "    </tr>\n",
       "    <tr>\n",
       "      <th>1881-02-01</th>\n",
       "      <td>6.17</td>\n",
       "      <td>0.27</td>\n",
       "      <td>0.4817</td>\n",
       "      <td>3.69333</td>\n",
       "      <td>18.1473</td>\n",
       "      <td>12.8088</td>\n",
       "      <td>1881</td>\n",
       "    </tr>\n",
       "    <tr>\n",
       "      <th>1881-03-01</th>\n",
       "      <td>6.24</td>\n",
       "      <td>0.275</td>\n",
       "      <td>0.4775</td>\n",
       "      <td>3.68667</td>\n",
       "      <td>18.2701</td>\n",
       "      <td>13.0681</td>\n",
       "      <td>1881</td>\n",
       "    </tr>\n",
       "    <tr>\n",
       "      <th>1881-04-01</th>\n",
       "      <td>6.22</td>\n",
       "      <td>0.28</td>\n",
       "      <td>0.4733</td>\n",
       "      <td>3.68</td>\n",
       "      <td>17.9501</td>\n",
       "      <td>13.1418</td>\n",
       "      <td>1881</td>\n",
       "    </tr>\n",
       "    <tr>\n",
       "      <th>1881-05-01</th>\n",
       "      <td>6.5</td>\n",
       "      <td>0.285</td>\n",
       "      <td>0.4692</td>\n",
       "      <td>3.67333</td>\n",
       "      <td>18.8697</td>\n",
       "      <td>13.8534</td>\n",
       "      <td>1881</td>\n",
       "    </tr>\n",
       "  </tbody>\n",
       "</table>\n",
       "</div>"
      ],
      "text/plain": [
       "           Price Dividends Earnings Long Interest Rate GS10 CAPE ratio  \\\n",
       "Date                                                                     \n",
       "1881-01-01  6.19     0.265   0.4858                     3.7     18.474   \n",
       "1881-02-01  6.17      0.27   0.4817                 3.69333    18.1473   \n",
       "1881-03-01  6.24     0.275   0.4775                 3.68667    18.2701   \n",
       "1881-04-01  6.22      0.28   0.4733                    3.68    17.9501   \n",
       "1881-05-01   6.5     0.285   0.4692                 3.67333    18.8697   \n",
       "\n",
       "           P/E ratio  Year  \n",
       "Date                        \n",
       "1881-01-01   12.7419  1881  \n",
       "1881-02-01   12.8088  1881  \n",
       "1881-03-01   13.0681  1881  \n",
       "1881-04-01   13.1418  1881  \n",
       "1881-05-01   13.8534  1881  "
      ]
     },
     "execution_count": 18,
     "metadata": {},
     "output_type": "execute_result"
    }
   ],
   "source": [
    "df.head()"
   ]
  },
  {
   "cell_type": "code",
   "execution_count": 19,
   "metadata": {},
   "outputs": [],
   "source": [
    "df.reset_index(inplace=True)"
   ]
  },
  {
   "cell_type": "code",
   "execution_count": 20,
   "metadata": {},
   "outputs": [
    {
     "data": {
      "text/plain": [
       "pandas.core.indexes.datetimes.DatetimeIndex"
      ]
     },
     "execution_count": 20,
     "metadata": {},
     "output_type": "execute_result"
    }
   ],
   "source": [
    "y = pd.date_range(start=df[\"Date\"].min(), end=df[\"Date\"].max(), freq=\"Y\")\n",
    "x = pd.date_range(start=df[\"Date\"].min(), end=df[\"Date\"].max(), freq=\"AS\")\n",
    "x = x[:-1]\n",
    "# if not x's len was bigger than y's\n",
    "type(x)"
   ]
  },
  {
   "cell_type": "code",
   "execution_count": 21,
   "metadata": {},
   "outputs": [],
   "source": [
    "y = y.to_period('M')"
   ]
  },
  {
   "cell_type": "code",
   "execution_count": 22,
   "metadata": {},
   "outputs": [
    {
     "data": {
      "text/html": [
       "<div>\n",
       "<style scoped>\n",
       "    .dataframe tbody tr th:only-of-type {\n",
       "        vertical-align: middle;\n",
       "    }\n",
       "\n",
       "    .dataframe tbody tr th {\n",
       "        vertical-align: top;\n",
       "    }\n",
       "\n",
       "    .dataframe thead th {\n",
       "        text-align: right;\n",
       "    }\n",
       "</style>\n",
       "<table border=\"1\" class=\"dataframe\">\n",
       "  <thead>\n",
       "    <tr style=\"text-align: right;\">\n",
       "      <th></th>\n",
       "      <th>Starting Price</th>\n",
       "      <th>Ending Price</th>\n",
       "      <th>Dividends</th>\n",
       "      <th>CAPE ratio</th>\n",
       "      <th>P/E ratio</th>\n",
       "    </tr>\n",
       "    <tr>\n",
       "      <th>Year</th>\n",
       "      <th></th>\n",
       "      <th></th>\n",
       "      <th></th>\n",
       "      <th></th>\n",
       "      <th></th>\n",
       "    </tr>\n",
       "  </thead>\n",
       "  <tbody>\n",
       "    <tr>\n",
       "      <th>1881</th>\n",
       "      <td>6.19</td>\n",
       "      <td>6.01</td>\n",
       "      <td>0.32</td>\n",
       "      <td>18.474</td>\n",
       "      <td>12.7419</td>\n",
       "    </tr>\n",
       "    <tr>\n",
       "      <th>1882</th>\n",
       "      <td>5.92</td>\n",
       "      <td>5.84</td>\n",
       "      <td>0.32</td>\n",
       "      <td>15.6788</td>\n",
       "      <td>13.4791</td>\n",
       "    </tr>\n",
       "    <tr>\n",
       "      <th>1883</th>\n",
       "      <td>5.81</td>\n",
       "      <td>5.34</td>\n",
       "      <td>0.33</td>\n",
       "      <td>15.2703</td>\n",
       "      <td>13.5906</td>\n",
       "    </tr>\n",
       "    <tr>\n",
       "      <th>1884</th>\n",
       "      <td>5.18</td>\n",
       "      <td>4.34</td>\n",
       "      <td>0.31</td>\n",
       "      <td>14.4328</td>\n",
       "      <td>13.1975</td>\n",
       "    </tr>\n",
       "    <tr>\n",
       "      <th>1885</th>\n",
       "      <td>4.24</td>\n",
       "      <td>5.2</td>\n",
       "      <td>0.24</td>\n",
       "      <td>13.1298</td>\n",
       "      <td>13.8246</td>\n",
       "    </tr>\n",
       "  </tbody>\n",
       "</table>\n",
       "</div>"
      ],
      "text/plain": [
       "     Starting Price Ending Price Dividends CAPE ratio P/E ratio\n",
       "Year                                                           \n",
       "1881           6.19         6.01      0.32     18.474   12.7419\n",
       "1882           5.92         5.84      0.32    15.6788   13.4791\n",
       "1883           5.81         5.34      0.33    15.2703   13.5906\n",
       "1884           5.18         4.34      0.31    14.4328   13.1975\n",
       "1885           4.24          5.2      0.24    13.1298   13.8246"
      ]
     },
     "execution_count": 22,
     "metadata": {},
     "output_type": "execute_result"
    }
   ],
   "source": [
    "years = df[\"Year\"].drop_duplicates()\n",
    "years.drop(years.index[-1], inplace=True)\n",
    "\n",
    "starting_price = pd.Series([], dtype=float)\n",
    "ending_price = pd.Series([], dtype=float)\n",
    "dividends = pd.Series([], dtype=float)\n",
    "cape_ratio = pd.Series([], dtype=float)\n",
    "pe_ratio = pd.Series([], dtype=float)\n",
    "\n",
    "for i in range(len(x)):\n",
    "    ending_price = ending_price.append(df[df[\"Date\"].dt.to_period(\"M\") == y[i]][\"Price\"])\n",
    "    starting_price = starting_price.append(df[df[\"Date\"] == x[i]][\"Price\"])\n",
    "    dividends = dividends.append(df[df[\"Date\"].dt.to_period(\"M\") == y[i]][\"Dividends\"])\n",
    "    cape_ratio = cape_ratio.append(df[df[\"Date\"] == x[i]][\"CAPE ratio\"])\n",
    "    pe_ratio = pe_ratio.append(df[df[\"Date\"] == x[i]][\"P/E ratio\"])\n",
    "    \n",
    "year_df = pd.DataFrame({\"Starting Price\": starting_price.values, \n",
    "                       \"Ending Price\": ending_price.values, \n",
    "                       \"Dividends\": dividends.values,\n",
    "                       \"CAPE ratio\": cape_ratio.values,\n",
    "                       \"P/E ratio\": pe_ratio.values}, years)\n",
    "year_df.head()"
   ]
  },
  {
   "cell_type": "code",
   "execution_count": 23,
   "metadata": {},
   "outputs": [],
   "source": [
    "year_df[\"Annual Return\"] = year_df[\"Starting Price\"].shift(periods=-1) - year_df[\"Starting Price\"]"
   ]
  },
  {
   "cell_type": "code",
   "execution_count": 24,
   "metadata": {},
   "outputs": [],
   "source": [
    "year_df[\"Total Annual Return\"] = year_df[\"Annual Return\"] + year_df[\"Dividends\"]"
   ]
  },
  {
   "cell_type": "code",
   "execution_count": 25,
   "metadata": {},
   "outputs": [],
   "source": [
    "year_df[\"% Total Annual Return\"] = year_df[\"Total Annual Return\"] / year_df[\"Starting Price\"] * 100"
   ]
  },
  {
   "cell_type": "code",
   "execution_count": 26,
   "metadata": {},
   "outputs": [],
   "source": [
    "ar = year_df[\"% Total Annual Return\"]"
   ]
  },
  {
   "cell_type": "code",
   "execution_count": 27,
   "metadata": {},
   "outputs": [],
   "source": [
    "year_df[\"% 10y Total Return\"] = (((ar / 100 + 1) * (ar.shift(-1) / 100 + 1) * (ar.shift(-2) / 100 + 1) * (ar.shift(-3) / 100 + 1) * (ar.shift(-4) / 100 + 1) * (ar.shift(-5) / 100 + 1) * (ar.shift(-6) / 100 + 1) * (ar.shift(-7) / 100 + 1) * (ar.shift(-8) / 100 + 1) * (ar.shift(-9) / 100 + 1))**(1/10) - 1) * 100"
   ]
  },
  {
   "cell_type": "code",
   "execution_count": 28,
   "metadata": {},
   "outputs": [],
   "source": [
    "year_df.dropna(inplace=True)"
   ]
  },
  {
   "cell_type": "code",
   "execution_count": 29,
   "metadata": {},
   "outputs": [
    {
     "data": {
      "text/html": [
       "<div>\n",
       "<style scoped>\n",
       "    .dataframe tbody tr th:only-of-type {\n",
       "        vertical-align: middle;\n",
       "    }\n",
       "\n",
       "    .dataframe tbody tr th {\n",
       "        vertical-align: top;\n",
       "    }\n",
       "\n",
       "    .dataframe thead th {\n",
       "        text-align: right;\n",
       "    }\n",
       "</style>\n",
       "<table border=\"1\" class=\"dataframe\">\n",
       "  <thead>\n",
       "    <tr style=\"text-align: right;\">\n",
       "      <th></th>\n",
       "      <th>Starting Price</th>\n",
       "      <th>Ending Price</th>\n",
       "      <th>Dividends</th>\n",
       "      <th>CAPE ratio</th>\n",
       "      <th>P/E ratio</th>\n",
       "      <th>Annual Return</th>\n",
       "      <th>Total Annual Return</th>\n",
       "      <th>% Total Annual Return</th>\n",
       "      <th>% 10y Total Return</th>\n",
       "    </tr>\n",
       "    <tr>\n",
       "      <th>Year</th>\n",
       "      <th></th>\n",
       "      <th></th>\n",
       "      <th></th>\n",
       "      <th></th>\n",
       "      <th></th>\n",
       "      <th></th>\n",
       "      <th></th>\n",
       "      <th></th>\n",
       "      <th></th>\n",
       "    </tr>\n",
       "  </thead>\n",
       "  <tbody>\n",
       "    <tr>\n",
       "      <th>1881</th>\n",
       "      <td>6.19</td>\n",
       "      <td>6.01</td>\n",
       "      <td>0.32</td>\n",
       "      <td>18.474</td>\n",
       "      <td>12.7419</td>\n",
       "      <td>-0.27</td>\n",
       "      <td>0.05</td>\n",
       "      <td>0.807754</td>\n",
       "      <td>2.52991</td>\n",
       "    </tr>\n",
       "    <tr>\n",
       "      <th>1882</th>\n",
       "      <td>5.92</td>\n",
       "      <td>5.84</td>\n",
       "      <td>0.32</td>\n",
       "      <td>15.6788</td>\n",
       "      <td>13.4791</td>\n",
       "      <td>-0.11</td>\n",
       "      <td>0.21</td>\n",
       "      <td>3.5473</td>\n",
       "      <td>4.19146</td>\n",
       "    </tr>\n",
       "    <tr>\n",
       "      <th>1883</th>\n",
       "      <td>5.81</td>\n",
       "      <td>5.34</td>\n",
       "      <td>0.33</td>\n",
       "      <td>15.2703</td>\n",
       "      <td>13.5906</td>\n",
       "      <td>-0.63</td>\n",
       "      <td>-0.3</td>\n",
       "      <td>-5.16351</td>\n",
       "      <td>4.45246</td>\n",
       "    </tr>\n",
       "    <tr>\n",
       "      <th>1884</th>\n",
       "      <td>5.18</td>\n",
       "      <td>4.34</td>\n",
       "      <td>0.31</td>\n",
       "      <td>14.4328</td>\n",
       "      <td>13.1975</td>\n",
       "      <td>-0.94</td>\n",
       "      <td>-0.63</td>\n",
       "      <td>-12.1622</td>\n",
       "      <td>2.87657</td>\n",
       "    </tr>\n",
       "    <tr>\n",
       "      <th>1885</th>\n",
       "      <td>4.24</td>\n",
       "      <td>5.2</td>\n",
       "      <td>0.24</td>\n",
       "      <td>13.1298</td>\n",
       "      <td>13.8246</td>\n",
       "      <td>0.96</td>\n",
       "      <td>1.2</td>\n",
       "      <td>28.3019</td>\n",
       "      <td>4.55226</td>\n",
       "    </tr>\n",
       "    <tr>\n",
       "      <th>...</th>\n",
       "      <td>...</td>\n",
       "      <td>...</td>\n",
       "      <td>...</td>\n",
       "      <td>...</td>\n",
       "      <td>...</td>\n",
       "      <td>...</td>\n",
       "      <td>...</td>\n",
       "      <td>...</td>\n",
       "      <td>...</td>\n",
       "    </tr>\n",
       "    <tr>\n",
       "      <th>2005</th>\n",
       "      <td>1181.41</td>\n",
       "      <td>1262.07</td>\n",
       "      <td>22.22</td>\n",
       "      <td>26.5873</td>\n",
       "      <td>19.9878</td>\n",
       "      <td>97.32</td>\n",
       "      <td>119.54</td>\n",
       "      <td>10.1184</td>\n",
       "      <td>7.7212</td>\n",
       "    </tr>\n",
       "    <tr>\n",
       "      <th>2006</th>\n",
       "      <td>1278.73</td>\n",
       "      <td>1416.42</td>\n",
       "      <td>24.88</td>\n",
       "      <td>26.4687</td>\n",
       "      <td>18.0671</td>\n",
       "      <td>145.43</td>\n",
       "      <td>170.31</td>\n",
       "      <td>13.3187</td>\n",
       "      <td>6.3345</td>\n",
       "    </tr>\n",
       "    <tr>\n",
       "      <th>2007</th>\n",
       "      <td>1424.16</td>\n",
       "      <td>1479.22</td>\n",
       "      <td>27.73</td>\n",
       "      <td>27.2075</td>\n",
       "      <td>17.3558</td>\n",
       "      <td>-45.4</td>\n",
       "      <td>-17.67</td>\n",
       "      <td>-1.24073</td>\n",
       "      <td>7.03104</td>\n",
       "    </tr>\n",
       "    <tr>\n",
       "      <th>2008</th>\n",
       "      <td>1378.76</td>\n",
       "      <td>877.56</td>\n",
       "      <td>28.39</td>\n",
       "      <td>24.0223</td>\n",
       "      <td>21.4593</td>\n",
       "      <td>-513.18</td>\n",
       "      <td>-484.79</td>\n",
       "      <td>-35.1613</td>\n",
       "      <td>9.56301</td>\n",
       "    </tr>\n",
       "    <tr>\n",
       "      <th>2009</th>\n",
       "      <td>865.58</td>\n",
       "      <td>1110.38</td>\n",
       "      <td>22.41</td>\n",
       "      <td>15.1747</td>\n",
       "      <td>70.9104</td>\n",
       "      <td>258</td>\n",
       "      <td>280.41</td>\n",
       "      <td>32.3956</td>\n",
       "      <td>13.8754</td>\n",
       "    </tr>\n",
       "  </tbody>\n",
       "</table>\n",
       "<p>129 rows × 9 columns</p>\n",
       "</div>"
      ],
      "text/plain": [
       "     Starting Price Ending Price Dividends CAPE ratio P/E ratio Annual Return  \\\n",
       "Year                                                                            \n",
       "1881           6.19         6.01      0.32     18.474   12.7419         -0.27   \n",
       "1882           5.92         5.84      0.32    15.6788   13.4791         -0.11   \n",
       "1883           5.81         5.34      0.33    15.2703   13.5906         -0.63   \n",
       "1884           5.18         4.34      0.31    14.4328   13.1975         -0.94   \n",
       "1885           4.24          5.2      0.24    13.1298   13.8246          0.96   \n",
       "...             ...          ...       ...        ...       ...           ...   \n",
       "2005        1181.41      1262.07     22.22    26.5873   19.9878         97.32   \n",
       "2006        1278.73      1416.42     24.88    26.4687   18.0671        145.43   \n",
       "2007        1424.16      1479.22     27.73    27.2075   17.3558         -45.4   \n",
       "2008        1378.76       877.56     28.39    24.0223   21.4593       -513.18   \n",
       "2009         865.58      1110.38     22.41    15.1747   70.9104           258   \n",
       "\n",
       "     Total Annual Return % Total Annual Return % 10y Total Return  \n",
       "Year                                                               \n",
       "1881                0.05              0.807754            2.52991  \n",
       "1882                0.21                3.5473            4.19146  \n",
       "1883                -0.3              -5.16351            4.45246  \n",
       "1884               -0.63              -12.1622            2.87657  \n",
       "1885                 1.2               28.3019            4.55226  \n",
       "...                  ...                   ...                ...  \n",
       "2005              119.54               10.1184             7.7212  \n",
       "2006              170.31               13.3187             6.3345  \n",
       "2007              -17.67              -1.24073            7.03104  \n",
       "2008             -484.79              -35.1613            9.56301  \n",
       "2009              280.41               32.3956            13.8754  \n",
       "\n",
       "[129 rows x 9 columns]"
      ]
     },
     "execution_count": 29,
     "metadata": {},
     "output_type": "execute_result"
    }
   ],
   "source": [
    "year_df"
   ]
  },
  {
   "cell_type": "code",
   "execution_count": 30,
   "metadata": {},
   "outputs": [],
   "source": [
    "regr = linear_model.LinearRegression()\n",
    "regr.fit(year_df[[\"P/E ratio\"]], year_df[[\"% 10y Total Return\"]])\n",
    "m = regr.coef_\n",
    "q = regr.intercept_"
   ]
  },
  {
   "cell_type": "code",
   "execution_count": 31,
   "metadata": {},
   "outputs": [
    {
     "data": {
      "image/png": "[encoded data removed]",
      "text/plain": [
       "<Figure size 432x288 with 1 Axes>"
      ]
     },
     "metadata": {
      "needs_background": "light"
     },
     "output_type": "display_data"
    },
    {
     "name": "stdout",
     "output_type": "stream",
     "text": [
      "The mean of the distribution is: 9.10664191795518\n",
      "The median of the distribution is: 8.261241442508727\n",
      "Data range from -1.9113636572490433 to 19.406514089738014\n"
     ]
    }
   ],
   "source": [
    "tr_ty = year_df[\"% 10y Total Return\"]\n",
    "plt.hist(tr_ty, bins=20)\n",
    "plt.gca().set(title=\"% 10y Total Return - Distribution\", ylabel=\"Frequency\")\n",
    "plt.show()\n",
    "mean = tr_ty.mean()\n",
    "median = tr_ty.median()\n",
    "min = tr_ty.min()\n",
    "max = tr_ty.max()\n",
    "print(\"The mean of the distribution is: {}\".format(mean))\n",
    "print(\"The median of the distribution is: {}\".format(median))\n",
    "print(f\"Data range from {min} to {max}\")"
   ]
  },
  {
   "cell_type": "markdown",
   "metadata": {},
   "source": [
    "The distribution is bimodal. The mean is 9.10 and the median is 8.2. This means that a substantial part of the data are towards left and the distribution is right skewed. Most of the data are between 3 and 10. Values range from -1.9 to 19.4. We can see that in the long term the stock market grows and it is quite rare (but still possible!) to have negative returns in the long term."
   ]
  },
  {
   "cell_type": "code",
   "execution_count": 32,
   "metadata": {},
   "outputs": [
    {
     "data": {
      "image/png": "[encoded data removed]",
      "text/plain": [
       "<Figure size 432x288 with 1 Axes>"
      ]
     },
     "metadata": {
      "needs_background": "light"
     },
     "output_type": "display_data"
    },
    {
     "name": "stdout",
     "output_type": "stream",
     "text": [
      "Coefficient of Determination(R2): 0.09876103055943686\n"
     ]
    }
   ],
   "source": [
    "plt.scatter(year_df[\"P/E ratio\"], year_df[\"% 10y Total Return\"])\n",
    "plt.plot(year_df[\"P/E ratio\"], regr.coef_[0]*year_df[\"P/E ratio\"]+ regr.intercept_[0], 'r')\n",
    "plt.xlabel(\"P/E ratio\")\n",
    "plt.ylabel(\"% Annualized Return - 10y\")\n",
    "plt.title(\"P/E ratio vs % Annualized Return - 10y\")\n",
    "plt.show()\n",
    "print(\"Coefficient of Determination(R2): {}\".format(regr.score(year_df[[\"P/E ratio\"]], year_df[[\"% 10y Total Return\"]])))"
   ]
  },
  {
   "cell_type": "markdown",
   "metadata": {},
   "source": [
    "We can see that the model is not accurate. The P/E ratio is not the best metric. We can see that the coefficient of Determination is close to 0.1 which is not a good score. That's also because, like we said before, P/E ratio failed predicting one of the greatest bull markets in history after the Great Recession of 2008/2009. That happened because Earnings dropped and there was a lot of uncertainty in relation to the financial sector.Earnigns rebounded thanks to the FED that prints a lot of money (1.3 trillion USD) and bought financial assets from banks and from the Governament (Quantitative Easing)."
   ]
  },
  {
   "cell_type": "code",
   "execution_count": 33,
   "metadata": {},
   "outputs": [
    {
     "data": {
      "image/png": "[encoded data removed]",
      "text/plain": [
       "<Figure size 432x288 with 1 Axes>"
      ]
     },
     "metadata": {
      "needs_background": "light"
     },
     "output_type": "display_data"
    },
    {
     "name": "stdout",
     "output_type": "stream",
     "text": [
      "Coefficient of Determination(R2): 0.23507546915358124\n",
      "The prediction, as of today, with a CAPE ratio of 31.1\n",
      "Prediction: 5.8534199979446475\n"
     ]
    }
   ],
   "source": [
    "plt.scatter(year_df[\"CAPE ratio\"], year_df[\"% 10y Total Return\"])\n",
    "plt.plot(year_df[\"CAPE ratio\"], regr.coef_[0]*year_df[\"CAPE ratio\"]+ regr.intercept_[0], 'r')\n",
    "plt.xlabel(\"CAPE ratio\")\n",
    "plt.ylabel(\"% Annualized Return - 10y\")\n",
    "plt.title(\"P/E ratio vs % Annualized Return - 10y\")\n",
    "plt.show()\n",
    "print(\"Coefficient of Determination(R2): {}\".format(regr.score(year_df[[\"CAPE ratio\"]], year_df[[\"% 10y Total Return\"]])))\n",
    "print(\"The prediction, as for today, with a CAPE ratio of 31.1\")\n",
    "print(f\"Prediction: {regr.predict(np.array([[31.1]]))[0][0]}\")"
   ]
  },
  {
   "cell_type": "markdown",
   "metadata": {},
   "source": [
    "The CAPE ratio is, without any doubt, a better metrics to use in order to predict (at least trying) the market. We can use the prediction as a possible scenario and we have to consider a possible margin of error. What happened in the past doesn't predict the future: we do not know how the economic recovery from COVID-19 outbreak will be, maybe the FED can make the economy rebound or it might also fail. There's a possibility that the US market will not be as great as it has been until now. Maybe China will grow and surpass China as the world's leading power. Who knows."
   ]
  },
  {
   "cell_type": "markdown",
   "metadata": {},
   "source": [
    "To do a more precise prediction, we can try to calculate the returns of the next 10 years for each month."
   ]
  },
  {
   "cell_type": "code",
   "execution_count": 34,
   "metadata": {},
   "outputs": [
    {
     "data": {
      "text/html": [
       "<div>\n",
       "<style scoped>\n",
       "    .dataframe tbody tr th:only-of-type {\n",
       "        vertical-align: middle;\n",
       "    }\n",
       "\n",
       "    .dataframe tbody tr th {\n",
       "        vertical-align: top;\n",
       "    }\n",
       "\n",
       "    .dataframe thead th {\n",
       "        text-align: right;\n",
       "    }\n",
       "</style>\n",
       "<table border=\"1\" class=\"dataframe\">\n",
       "  <thead>\n",
       "    <tr style=\"text-align: right;\">\n",
       "      <th></th>\n",
       "      <th>Date</th>\n",
       "      <th>Price</th>\n",
       "      <th>Dividends</th>\n",
       "      <th>Earnings</th>\n",
       "      <th>Long Interest Rate GS10</th>\n",
       "      <th>CAPE ratio</th>\n",
       "      <th>P/E ratio</th>\n",
       "      <th>Year</th>\n",
       "    </tr>\n",
       "  </thead>\n",
       "  <tbody>\n",
       "    <tr>\n",
       "      <th>0</th>\n",
       "      <td>1881-01-01</td>\n",
       "      <td>6.19</td>\n",
       "      <td>0.265</td>\n",
       "      <td>0.4858</td>\n",
       "      <td>3.7</td>\n",
       "      <td>18.474</td>\n",
       "      <td>12.7419</td>\n",
       "      <td>1881</td>\n",
       "    </tr>\n",
       "    <tr>\n",
       "      <th>1</th>\n",
       "      <td>1881-02-01</td>\n",
       "      <td>6.17</td>\n",
       "      <td>0.27</td>\n",
       "      <td>0.4817</td>\n",
       "      <td>3.69333</td>\n",
       "      <td>18.1473</td>\n",
       "      <td>12.8088</td>\n",
       "      <td>1881</td>\n",
       "    </tr>\n",
       "    <tr>\n",
       "      <th>2</th>\n",
       "      <td>1881-03-01</td>\n",
       "      <td>6.24</td>\n",
       "      <td>0.275</td>\n",
       "      <td>0.4775</td>\n",
       "      <td>3.68667</td>\n",
       "      <td>18.2701</td>\n",
       "      <td>13.0681</td>\n",
       "      <td>1881</td>\n",
       "    </tr>\n",
       "    <tr>\n",
       "      <th>3</th>\n",
       "      <td>1881-04-01</td>\n",
       "      <td>6.22</td>\n",
       "      <td>0.28</td>\n",
       "      <td>0.4733</td>\n",
       "      <td>3.68</td>\n",
       "      <td>17.9501</td>\n",
       "      <td>13.1418</td>\n",
       "      <td>1881</td>\n",
       "    </tr>\n",
       "    <tr>\n",
       "      <th>4</th>\n",
       "      <td>1881-05-01</td>\n",
       "      <td>6.5</td>\n",
       "      <td>0.285</td>\n",
       "      <td>0.4692</td>\n",
       "      <td>3.67333</td>\n",
       "      <td>18.8697</td>\n",
       "      <td>13.8534</td>\n",
       "      <td>1881</td>\n",
       "    </tr>\n",
       "  </tbody>\n",
       "</table>\n",
       "</div>"
      ],
      "text/plain": [
       "        Date Price Dividends Earnings Long Interest Rate GS10 CAPE ratio  \\\n",
       "0 1881-01-01  6.19     0.265   0.4858                     3.7     18.474   \n",
       "1 1881-02-01  6.17      0.27   0.4817                 3.69333    18.1473   \n",
       "2 1881-03-01  6.24     0.275   0.4775                 3.68667    18.2701   \n",
       "3 1881-04-01  6.22      0.28   0.4733                    3.68    17.9501   \n",
       "4 1881-05-01   6.5     0.285   0.4692                 3.67333    18.8697   \n",
       "\n",
       "  P/E ratio  Year  \n",
       "0   12.7419  1881  \n",
       "1   12.8088  1881  \n",
       "2   13.0681  1881  \n",
       "3   13.1418  1881  \n",
       "4   13.8534  1881  "
      ]
     },
     "execution_count": 34,
     "metadata": {},
     "output_type": "execute_result"
    }
   ],
   "source": [
    "df.head()"
   ]
  },
  {
   "cell_type": "code",
   "execution_count": 35,
   "metadata": {},
   "outputs": [],
   "source": [
    "df[\"Dividends\"] = df[\"Dividends\"] / 12\n",
    "df[\"Total Dividends\"] = df[\"Dividends\"].cumsum()"
   ]
  },
  {
   "cell_type": "code",
   "execution_count": 36,
   "metadata": {},
   "outputs": [],
   "source": [
    "df[\"10y Annualized Return\"] = ((((df[\"Price\"].shift(-120) + (df[\"Total Dividends\"].shift(-120) - df[\"Total Dividends\"])) / df[\"Price\"])) ** (1/10) - 1) * 100"
   ]
  },
  {
   "cell_type": "code",
   "execution_count": 37,
   "metadata": {},
   "outputs": [],
   "source": [
    "df.dropna(inplace=True)"
   ]
  },
  {
   "cell_type": "code",
   "execution_count": 38,
   "metadata": {},
   "outputs": [
    {
     "data": {
      "image/png": "[encoded data removed]",
      "text/plain": [
       "<Figure size 432x288 with 1 Axes>"
      ]
     },
     "metadata": {
      "needs_background": "light"
     },
     "output_type": "display_data"
    }
   ],
   "source": [
    "# sns.distplot(df[\"Total Next 10y Annualized Return\"], kde=False).set_title(\"% 10y Annualized Return - Distribution\")\n",
    "# plt.show()\n",
    "plt.hist(df[\"10y Annualized Return\"], bins=20)\n",
    "plt.gca().set(title=\"% 10y Total Return - Distribution\")\n",
    "plt.show()"
   ]
  },
  {
   "cell_type": "markdown",
   "metadata": {},
   "source": [
    "The Average 10y Annual Return is 7.4% with a standard deviation of 4.4. Most of the values are between 3% and 13%\n",
    "Over the long term the market returns have been positive, except for some outliers. This doesn't mean that the market return is guaranteed over the long term because: 1) Past performances might not repeat again and 2) We are considering nominal returns, not real returns."
   ]
  },
  {
   "cell_type": "code",
   "execution_count": 41,
   "metadata": {},
   "outputs": [],
   "source": [
    "regr = linear_model.LinearRegression()\n",
    "regr.fit(df[[\"CAPE ratio\"]], df[[\"10y Annualized Return\"]])\n",
    "m = regr.coef_\n",
    "q = regr.intercept_"
   ]
  },
  {
   "cell_type": "code",
   "execution_count": 46,
   "metadata": {},
   "outputs": [
    {
     "data": {
      "image/png": "[encoded data removed]",
      "text/plain": [
       "<Figure size 432x288 with 1 Axes>"
      ]
     },
     "metadata": {
      "needs_background": "light"
     },
     "output_type": "display_data"
    },
    {
     "name": "stdout",
     "output_type": "stream",
     "text": [
      "Coefficient of Determination(R2): 0.29735678097653706\n"
     ]
    }
   ],
   "source": [
    "plt.scatter(df[\"CAPE ratio\"], df[\"10y Annualized Return\"])\n",
    "plt.plot(df[\"CAPE ratio\"], m[0]*df[\"CAPE ratio\"] + q[0], \"r\")\n",
    "plt.xlabel(\"CAPE ratio\")\n",
    "plt.ylabel(\"% Annualized Return - 10y\")\n",
    "plt.title(\"CAPE ratio vs % Annualized Return - 10y\")\n",
    "plt.show()\n",
    "\n",
    "print(\"Coefficient of Determination(R2): {}\".format(regr.score(df[[\"CAPE ratio\"]], df[[\"10y Annualized Return\"]])))"
   ]
  },
  {
   "cell_type": "markdown",
   "metadata": {},
   "source": [
    "The regression line fits the data with an R2 of approximately 0.3. We can try to predict the return for the next 10 years based on this model. As for today (01/02/2021) the CAPE is 33.74. "
   ]
  },
  {
   "cell_type": "code",
   "execution_count": 49,
   "metadata": {},
   "outputs": [
    {
     "name": "stdout",
     "output_type": "stream",
     "text": [
      "The prediction, as for today, with a CAPE ratio of 31.1\n",
      "Prediction: 1.404580760218499%\n"
     ]
    }
   ],
   "source": [
    "print(\"The prediction, as for today, with a CAPE ratio of 31.1\")\n",
    "print(f\"Prediction: {regr.predict(np.array([[33.74]]))[0][0]}%\")"
   ]
  },
  {
   "cell_type": "markdown",
   "metadata": {},
   "source": [
    "As you can see, the return for the next 10 will be very low. With a possible high inflation, real returns could also be negative. \n",
    "A scenario of low return is not far from the reality. In the recent 10 years the market has risen a lot and valuation are high. Are we close to another lost decade? We cannot know, we have to be ready with our portfolios by diversification in different asset classes, countries and currencies."
   ]
  }
 ],
 "metadata": {
  "kernelspec": {
   "display_name": "Python 3",
   "language": "python",
   "name": "python3"
  },
  "language_info": {
   "codemirror_mode": {
    "name": "ipython",
    "version": 3
   },
   "file_extension": ".py",
   "mimetype": "text/x-python",
   "name": "python",
   "nbconvert_exporter": "python",
   "pygments_lexer": "ipython3",
   "version": "3.7.7"
  }
 },
 "nbformat": 4,
 "nbformat_minor": 4
}
