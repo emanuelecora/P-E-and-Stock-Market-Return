{
 "cells": [
  {
   "cell_type": "markdown",
   "metadata": {},
   "source": [
    "# P/E ratio and Stock Market return"
   ]
  },
  {
   "cell_type": "markdown",
   "metadata": {},
   "source": [
    "This project's goal is to show the close relationship between P/E ratios in a given year and the return in the next 10 years from that given year.\n",
    "This data set consists of monthly stock price, dividends, and earnings data and the consumer price index (to allow conversion to real values), all starting January 1871.\n",
    "\n",
    "I am using a Data set from Robert J. Shiller. http://www.econ.yale.edu/~shiller/data.htm.\n",
    "\n",
    "Emanuele Corà"
   ]
  },
  {
   "cell_type": "code",
   "execution_count": 194,
   "metadata": {},
   "outputs": [],
   "source": [
    "import pandas as pd\n",
    "import numpy as np\n",
    "import matplotlib.pyplot as plt"
   ]
  },
  {
   "cell_type": "code",
   "execution_count": 195,
   "metadata": {},
   "outputs": [],
   "source": [
    "df = pd.read_excel(\"ie_data.xls\", sheet_name=\"Data\", encoding=\"utf-8\")"
   ]
  },
  {
   "cell_type": "code",
   "execution_count": 196,
   "metadata": {},
   "outputs": [],
   "source": [
    "df.columns = [\"Date\", \"Price\", \"Dividends\", \"Earnings\", \"CPI\", \"Date Fraction\", \"Long Interest Rate GS10\", \n",
    "              \"Real price\", \"Real Dividend\", \"Real Total Return Price\", \"Real Earnings\", \"Real TR Scaled Earnings\", \n",
    "             \"CAPE ratio\", \"NAN1\", \"TR CAPE ratio\", \"NAN2\"]"
   ]
  },
  {
   "cell_type": "code",
   "execution_count": 197,
   "metadata": {},
   "outputs": [],
   "source": [
    "df = df.drop(range(7))"
   ]
  },
  {
   "cell_type": "code",
   "execution_count": 198,
   "metadata": {},
   "outputs": [],
   "source": [
    "df = df.drop(columns=[\"NAN1\", \"NAN2\"])"
   ]
  },
  {
   "cell_type": "code",
   "execution_count": 199,
   "metadata": {},
   "outputs": [],
   "source": [
    "df = df.dropna()"
   ]
  },
  {
   "cell_type": "code",
   "execution_count": 200,
   "metadata": {},
   "outputs": [
    {
     "name": "stdout",
     "output_type": "stream",
     "text": [
      "(1674, 14)\n"
     ]
    },
    {
     "data": {
      "text/html": [
       "<div>\n",
       "<style scoped>\n",
       "    .dataframe tbody tr th:only-of-type {\n",
       "        vertical-align: middle;\n",
       "    }\n",
       "\n",
       "    .dataframe tbody tr th {\n",
       "        vertical-align: top;\n",
       "    }\n",
       "\n",
       "    .dataframe thead th {\n",
       "        text-align: right;\n",
       "    }\n",
       "</style>\n",
       "<table border=\"1\" class=\"dataframe\">\n",
       "  <thead>\n",
       "    <tr style=\"text-align: right;\">\n",
       "      <th></th>\n",
       "      <th>Date</th>\n",
       "      <th>Price</th>\n",
       "      <th>Dividends</th>\n",
       "      <th>Earnings</th>\n",
       "      <th>CPI</th>\n",
       "      <th>Date Fraction</th>\n",
       "      <th>Long Interest Rate GS10</th>\n",
       "      <th>Real price</th>\n",
       "      <th>Real Dividend</th>\n",
       "      <th>Real Total Return Price</th>\n",
       "      <th>Real Earnings</th>\n",
       "      <th>Real TR Scaled Earnings</th>\n",
       "      <th>CAPE ratio</th>\n",
       "      <th>TR CAPE ratio</th>\n",
       "    </tr>\n",
       "  </thead>\n",
       "  <tbody>\n",
       "    <tr>\n",
       "      <th>127</th>\n",
       "      <td>1881.01</td>\n",
       "      <td>6.19</td>\n",
       "      <td>0.265</td>\n",
       "      <td>0.4858</td>\n",
       "      <td>9.41942</td>\n",
       "      <td>1881.04</td>\n",
       "      <td>3.7</td>\n",
       "      <td>170.697</td>\n",
       "      <td>7.30773</td>\n",
       "      <td>315.799</td>\n",
       "      <td>13.3966</td>\n",
       "      <td>24.7843</td>\n",
       "      <td>18.474</td>\n",
       "      <td>24.1351</td>\n",
       "    </tr>\n",
       "    <tr>\n",
       "      <th>128</th>\n",
       "      <td>1881.02</td>\n",
       "      <td>6.17</td>\n",
       "      <td>0.27</td>\n",
       "      <td>0.4817</td>\n",
       "      <td>9.51459</td>\n",
       "      <td>1881.12</td>\n",
       "      <td>3.69333</td>\n",
       "      <td>168.444</td>\n",
       "      <td>7.37114</td>\n",
       "      <td>312.766</td>\n",
       "      <td>13.1507</td>\n",
       "      <td>24.4181</td>\n",
       "      <td>18.1473</td>\n",
       "      <td>23.6555</td>\n",
       "    </tr>\n",
       "    <tr>\n",
       "      <th>129</th>\n",
       "      <td>1881.03</td>\n",
       "      <td>6.24</td>\n",
       "      <td>0.275</td>\n",
       "      <td>0.4775</td>\n",
       "      <td>9.51459</td>\n",
       "      <td>1881.21</td>\n",
       "      <td>3.68667</td>\n",
       "      <td>170.355</td>\n",
       "      <td>7.50764</td>\n",
       "      <td>317.476</td>\n",
       "      <td>13.036</td>\n",
       "      <td>24.2941</td>\n",
       "      <td>18.2701</td>\n",
       "      <td>23.7677</td>\n",
       "    </tr>\n",
       "    <tr>\n",
       "      <th>130</th>\n",
       "      <td>1881.04</td>\n",
       "      <td>6.22</td>\n",
       "      <td>0.28</td>\n",
       "      <td>0.4733</td>\n",
       "      <td>9.60967</td>\n",
       "      <td>1881.29</td>\n",
       "      <td>3.68</td>\n",
       "      <td>168.129</td>\n",
       "      <td>7.56851</td>\n",
       "      <td>314.503</td>\n",
       "      <td>12.7935</td>\n",
       "      <td>23.9315</td>\n",
       "      <td>17.9501</td>\n",
       "      <td>23.3089</td>\n",
       "    </tr>\n",
       "    <tr>\n",
       "      <th>131</th>\n",
       "      <td>1881.05</td>\n",
       "      <td>6.5</td>\n",
       "      <td>0.285</td>\n",
       "      <td>0.4692</td>\n",
       "      <td>9.51459</td>\n",
       "      <td>1881.37</td>\n",
       "      <td>3.67333</td>\n",
       "      <td>177.453</td>\n",
       "      <td>7.78064</td>\n",
       "      <td>333.158</td>\n",
       "      <td>12.8094</td>\n",
       "      <td>24.0489</td>\n",
       "      <td>18.8697</td>\n",
       "      <td>24.4567</td>\n",
       "    </tr>\n",
       "  </tbody>\n",
       "</table>\n",
       "</div>"
      ],
      "text/plain": [
       "        Date Price Dividends Earnings      CPI Date Fraction  \\\n",
       "127  1881.01  6.19     0.265   0.4858  9.41942       1881.04   \n",
       "128  1881.02  6.17      0.27   0.4817  9.51459       1881.12   \n",
       "129  1881.03  6.24     0.275   0.4775  9.51459       1881.21   \n",
       "130  1881.04  6.22      0.28   0.4733  9.60967       1881.29   \n",
       "131  1881.05   6.5     0.285   0.4692  9.51459       1881.37   \n",
       "\n",
       "    Long Interest Rate GS10 Real price Real Dividend Real Total Return Price  \\\n",
       "127                     3.7    170.697       7.30773                 315.799   \n",
       "128                 3.69333    168.444       7.37114                 312.766   \n",
       "129                 3.68667    170.355       7.50764                 317.476   \n",
       "130                    3.68    168.129       7.56851                 314.503   \n",
       "131                 3.67333    177.453       7.78064                 333.158   \n",
       "\n",
       "    Real Earnings Real TR Scaled Earnings CAPE ratio TR CAPE ratio  \n",
       "127       13.3966                 24.7843     18.474       24.1351  \n",
       "128       13.1507                 24.4181    18.1473       23.6555  \n",
       "129        13.036                 24.2941    18.2701       23.7677  \n",
       "130       12.7935                 23.9315    17.9501       23.3089  \n",
       "131       12.8094                 24.0489    18.8697       24.4567  "
      ]
     },
     "execution_count": 200,
     "metadata": {},
     "output_type": "execute_result"
    }
   ],
   "source": [
    "print(df.shape)\n",
    "df.head()"
   ]
  },
  {
   "cell_type": "code",
   "execution_count": 201,
   "metadata": {},
   "outputs": [],
   "source": [
    "df[\"P/E ratio\"] = df[\"Price\"] / df[\"Earnings\"]"
   ]
  },
  {
   "cell_type": "code",
   "execution_count": 202,
   "metadata": {},
   "outputs": [
    {
     "data": {
      "text/html": [
       "<div>\n",
       "<style scoped>\n",
       "    .dataframe tbody tr th:only-of-type {\n",
       "        vertical-align: middle;\n",
       "    }\n",
       "\n",
       "    .dataframe tbody tr th {\n",
       "        vertical-align: top;\n",
       "    }\n",
       "\n",
       "    .dataframe thead th {\n",
       "        text-align: right;\n",
       "    }\n",
       "</style>\n",
       "<table border=\"1\" class=\"dataframe\">\n",
       "  <thead>\n",
       "    <tr style=\"text-align: right;\">\n",
       "      <th></th>\n",
       "      <th>Date</th>\n",
       "      <th>Price</th>\n",
       "      <th>Dividends</th>\n",
       "      <th>Earnings</th>\n",
       "      <th>CPI</th>\n",
       "      <th>Date Fraction</th>\n",
       "      <th>Long Interest Rate GS10</th>\n",
       "      <th>Real price</th>\n",
       "      <th>Real Dividend</th>\n",
       "      <th>Real Total Return Price</th>\n",
       "      <th>Real Earnings</th>\n",
       "      <th>Real TR Scaled Earnings</th>\n",
       "      <th>CAPE ratio</th>\n",
       "      <th>TR CAPE ratio</th>\n",
       "      <th>P/E ratio</th>\n",
       "    </tr>\n",
       "  </thead>\n",
       "  <tbody>\n",
       "    <tr>\n",
       "      <th>127</th>\n",
       "      <td>1881.01</td>\n",
       "      <td>6.19</td>\n",
       "      <td>0.265</td>\n",
       "      <td>0.4858</td>\n",
       "      <td>9.41942</td>\n",
       "      <td>1881.04</td>\n",
       "      <td>3.7</td>\n",
       "      <td>170.697</td>\n",
       "      <td>7.30773</td>\n",
       "      <td>315.799</td>\n",
       "      <td>13.3966</td>\n",
       "      <td>24.7843</td>\n",
       "      <td>18.474</td>\n",
       "      <td>24.1351</td>\n",
       "      <td>12.7419</td>\n",
       "    </tr>\n",
       "    <tr>\n",
       "      <th>128</th>\n",
       "      <td>1881.02</td>\n",
       "      <td>6.17</td>\n",
       "      <td>0.27</td>\n",
       "      <td>0.4817</td>\n",
       "      <td>9.51459</td>\n",
       "      <td>1881.12</td>\n",
       "      <td>3.69333</td>\n",
       "      <td>168.444</td>\n",
       "      <td>7.37114</td>\n",
       "      <td>312.766</td>\n",
       "      <td>13.1507</td>\n",
       "      <td>24.4181</td>\n",
       "      <td>18.1473</td>\n",
       "      <td>23.6555</td>\n",
       "      <td>12.8088</td>\n",
       "    </tr>\n",
       "    <tr>\n",
       "      <th>129</th>\n",
       "      <td>1881.03</td>\n",
       "      <td>6.24</td>\n",
       "      <td>0.275</td>\n",
       "      <td>0.4775</td>\n",
       "      <td>9.51459</td>\n",
       "      <td>1881.21</td>\n",
       "      <td>3.68667</td>\n",
       "      <td>170.355</td>\n",
       "      <td>7.50764</td>\n",
       "      <td>317.476</td>\n",
       "      <td>13.036</td>\n",
       "      <td>24.2941</td>\n",
       "      <td>18.2701</td>\n",
       "      <td>23.7677</td>\n",
       "      <td>13.0681</td>\n",
       "    </tr>\n",
       "    <tr>\n",
       "      <th>130</th>\n",
       "      <td>1881.04</td>\n",
       "      <td>6.22</td>\n",
       "      <td>0.28</td>\n",
       "      <td>0.4733</td>\n",
       "      <td>9.60967</td>\n",
       "      <td>1881.29</td>\n",
       "      <td>3.68</td>\n",
       "      <td>168.129</td>\n",
       "      <td>7.56851</td>\n",
       "      <td>314.503</td>\n",
       "      <td>12.7935</td>\n",
       "      <td>23.9315</td>\n",
       "      <td>17.9501</td>\n",
       "      <td>23.3089</td>\n",
       "      <td>13.1418</td>\n",
       "    </tr>\n",
       "    <tr>\n",
       "      <th>131</th>\n",
       "      <td>1881.05</td>\n",
       "      <td>6.5</td>\n",
       "      <td>0.285</td>\n",
       "      <td>0.4692</td>\n",
       "      <td>9.51459</td>\n",
       "      <td>1881.37</td>\n",
       "      <td>3.67333</td>\n",
       "      <td>177.453</td>\n",
       "      <td>7.78064</td>\n",
       "      <td>333.158</td>\n",
       "      <td>12.8094</td>\n",
       "      <td>24.0489</td>\n",
       "      <td>18.8697</td>\n",
       "      <td>24.4567</td>\n",
       "      <td>13.8534</td>\n",
       "    </tr>\n",
       "  </tbody>\n",
       "</table>\n",
       "</div>"
      ],
      "text/plain": [
       "        Date Price Dividends Earnings      CPI Date Fraction  \\\n",
       "127  1881.01  6.19     0.265   0.4858  9.41942       1881.04   \n",
       "128  1881.02  6.17      0.27   0.4817  9.51459       1881.12   \n",
       "129  1881.03  6.24     0.275   0.4775  9.51459       1881.21   \n",
       "130  1881.04  6.22      0.28   0.4733  9.60967       1881.29   \n",
       "131  1881.05   6.5     0.285   0.4692  9.51459       1881.37   \n",
       "\n",
       "    Long Interest Rate GS10 Real price Real Dividend Real Total Return Price  \\\n",
       "127                     3.7    170.697       7.30773                 315.799   \n",
       "128                 3.69333    168.444       7.37114                 312.766   \n",
       "129                 3.68667    170.355       7.50764                 317.476   \n",
       "130                    3.68    168.129       7.56851                 314.503   \n",
       "131                 3.67333    177.453       7.78064                 333.158   \n",
       "\n",
       "    Real Earnings Real TR Scaled Earnings CAPE ratio TR CAPE ratio P/E ratio  \n",
       "127       13.3966                 24.7843     18.474       24.1351   12.7419  \n",
       "128       13.1507                 24.4181    18.1473       23.6555   12.8088  \n",
       "129        13.036                 24.2941    18.2701       23.7677   13.0681  \n",
       "130       12.7935                 23.9315    17.9501       23.3089   13.1418  \n",
       "131       12.8094                 24.0489    18.8697       24.4567   13.8534  "
      ]
     },
     "execution_count": 202,
     "metadata": {},
     "output_type": "execute_result"
    }
   ],
   "source": [
    "df.head()"
   ]
  },
  {
   "cell_type": "code",
   "execution_count": 203,
   "metadata": {},
   "outputs": [
    {
     "data": {
      "text/plain": [
       "Text(0, 0.5, 'Price')"
      ]
     },
     "execution_count": 203,
     "metadata": {},
     "output_type": "execute_result"
    },
    {
     "data": {
      "image/png": "[encoded data removed]",
      "text/plain": [
       "<Figure size 432x288 with 1 Axes>"
      ]
     },
     "metadata": {
      "needs_background": "light"
     },
     "output_type": "display_data"
    }
   ],
   "source": [
    "plt.plot(df[\"Price\"].tail(100))\n",
    "plt.title(\"S&P500 Composite Historical Data\")\n",
    "plt.xlabel(\"Date\")\n",
    "plt.ylabel(\"Price\")"
   ]
  },
  {
   "cell_type": "code",
   "execution_count": 204,
   "metadata": {},
   "outputs": [],
   "source": [
    "df = df.set_index(\"Date\")"
   ]
  },
  {
   "cell_type": "code",
   "execution_count": 205,
   "metadata": {},
   "outputs": [
    {
     "data": {
      "text/plain": [
       "Text(0, 0.5, 'Price')"
      ]
     },
     "execution_count": 205,
     "metadata": {},
     "output_type": "execute_result"
    },
    {
     "data": {
      "image/png": "[encoded data removed]",
      "text/plain": [
       "<Figure size 432x288 with 1 Axes>"
      ]
     },
     "metadata": {
      "needs_background": "light"
     },
     "output_type": "display_data"
    }
   ],
   "source": [
    "plt.plot(df[\"Price\"].tail(100))\n",
    "plt.title(\"S&P500 Composite Historical Data\")\n",
    "plt.xlabel(\"Date\")\n",
    "plt.ylabel(\"Price\")"
   ]
  },
  {
   "cell_type": "code",
   "execution_count": null,
   "metadata": {},
   "outputs": [],
   "source": []
  }
 ],
 "metadata": {
  "kernelspec": {
   "display_name": "Python 3",
   "language": "python",
   "name": "python3"
  },
  "language_info": {
   "codemirror_mode": {
    "name": "ipython",
    "version": 3
   },
   "file_extension": ".py",
   "mimetype": "text/x-python",
   "name": "python",
   "nbconvert_exporter": "python",
   "pygments_lexer": "ipython3",
   "version": "3.7.7"
  }
 },
 "nbformat": 4,
 "nbformat_minor": 4
}
