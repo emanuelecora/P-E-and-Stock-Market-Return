{
 "cells": [
  {
   "cell_type": "markdown",
   "metadata": {},
   "source": [
    "# P/E ratio and Stock Market return"
   ]
  },
  {
   "cell_type": "markdown",
   "metadata": {},
   "source": [
    "This project's goal is to show the close relationship between P/E ratios in a given year and the return in the next 10 years from that given year.\n",
    "This data set consists of monthly stock price, dividends, and earnings data and the consumer price index (to allow conversion to real values), all starting January 1871.\n",
    "\n",
    "I am using a Data set from Robert J. Shiller. http://www.econ.yale.edu/~shiller/data.htm.\n",
    "\n",
    "Emanuele Corà"
   ]
  },
  {
   "cell_type": "code",
   "execution_count": 390,
   "metadata": {},
   "outputs": [],
   "source": [
    "import pandas as pd\n",
    "import numpy as np\n",
    "import matplotlib.pyplot as plt"
   ]
  },
  {
   "cell_type": "code",
   "execution_count": 391,
   "metadata": {},
   "outputs": [],
   "source": [
    "df = pd.read_excel(\"ie_data.xls\", sheet_name=\"Data\", encoding=\"utf-8\")"
   ]
  },
  {
   "cell_type": "code",
   "execution_count": 392,
   "metadata": {},
   "outputs": [],
   "source": [
    "df.columns = [\"Date\", \"Price\", \"Dividends\", \"Earnings\", \"CPI\", \"Date Fraction\", \"Long Interest Rate GS10\", \n",
    "              \"Real price\", \"Real Dividend\", \"Real Total Return Price\", \"Real Earnings\", \"Real TR Scaled Earnings\", \n",
    "             \"CAPE ratio\", \"NAN1\", \"TR CAPE ratio\", \"NAN2\"]"
   ]
  },
  {
   "cell_type": "code",
   "execution_count": 393,
   "metadata": {},
   "outputs": [],
   "source": [
    "df.drop(range(7), inplace=True)"
   ]
  },
  {
   "cell_type": "code",
   "execution_count": 394,
   "metadata": {},
   "outputs": [],
   "source": [
    "df.drop(columns=[\"NAN1\", \"NAN2\"], inplace=True)"
   ]
  },
  {
   "cell_type": "code",
   "execution_count": 395,
   "metadata": {},
   "outputs": [],
   "source": [
    "df.dropna(inplace=True)"
   ]
  },
  {
   "cell_type": "code",
   "execution_count": 396,
   "metadata": {},
   "outputs": [],
   "source": [
    "df[\"P/E ratio\"] = df[\"Price\"] / df[\"Earnings\"]"
   ]
  },
  {
   "cell_type": "code",
   "execution_count": 397,
   "metadata": {},
   "outputs": [],
   "source": [
    "df['Date'] = df['Date'].astype(str)"
   ]
  },
  {
   "cell_type": "code",
   "execution_count": 398,
   "metadata": {},
   "outputs": [],
   "source": [
    "df[\"len\"] = df[\"Date\"].apply(len)\n",
    "df[\"Date\"] = df[\"Date\"].where(df[\"len\"] == 7, df[\"Date\"] + \"0\")"
   ]
  },
  {
   "cell_type": "code",
   "execution_count": 404,
   "metadata": {},
   "outputs": [],
   "source": [
    "df.drop(columns=\"len\", inplace=True)"
   ]
  },
  {
   "cell_type": "code",
   "execution_count": 405,
   "metadata": {},
   "outputs": [
    {
     "name": "stdout",
     "output_type": "stream",
     "text": [
      "(1674, 14)\n"
     ]
    },
    {
     "data": {
      "text/html": [
       "<div>\n",
       "<style scoped>\n",
       "    .dataframe tbody tr th:only-of-type {\n",
       "        vertical-align: middle;\n",
       "    }\n",
       "\n",
       "    .dataframe tbody tr th {\n",
       "        vertical-align: top;\n",
       "    }\n",
       "\n",
       "    .dataframe thead th {\n",
       "        text-align: right;\n",
       "    }\n",
       "</style>\n",
       "<table border=\"1\" class=\"dataframe\">\n",
       "  <thead>\n",
       "    <tr style=\"text-align: right;\">\n",
       "      <th></th>\n",
       "      <th>Price</th>\n",
       "      <th>Dividends</th>\n",
       "      <th>Earnings</th>\n",
       "      <th>CPI</th>\n",
       "      <th>Date Fraction</th>\n",
       "      <th>Long Interest Rate GS10</th>\n",
       "      <th>Real price</th>\n",
       "      <th>Real Dividend</th>\n",
       "      <th>Real Total Return Price</th>\n",
       "      <th>Real Earnings</th>\n",
       "      <th>Real TR Scaled Earnings</th>\n",
       "      <th>CAPE ratio</th>\n",
       "      <th>TR CAPE ratio</th>\n",
       "      <th>P/E ratio</th>\n",
       "    </tr>\n",
       "    <tr>\n",
       "      <th>Date</th>\n",
       "      <th></th>\n",
       "      <th></th>\n",
       "      <th></th>\n",
       "      <th></th>\n",
       "      <th></th>\n",
       "      <th></th>\n",
       "      <th></th>\n",
       "      <th></th>\n",
       "      <th></th>\n",
       "      <th></th>\n",
       "      <th></th>\n",
       "      <th></th>\n",
       "      <th></th>\n",
       "      <th></th>\n",
       "    </tr>\n",
       "  </thead>\n",
       "  <tbody>\n",
       "    <tr>\n",
       "      <th>1881-01-01</th>\n",
       "      <td>6.19</td>\n",
       "      <td>0.265</td>\n",
       "      <td>0.4858</td>\n",
       "      <td>9.41942</td>\n",
       "      <td>1881.04</td>\n",
       "      <td>3.7</td>\n",
       "      <td>170.697</td>\n",
       "      <td>7.30773</td>\n",
       "      <td>315.799</td>\n",
       "      <td>13.3966</td>\n",
       "      <td>24.7843</td>\n",
       "      <td>18.474</td>\n",
       "      <td>24.1351</td>\n",
       "      <td>12.7419</td>\n",
       "    </tr>\n",
       "    <tr>\n",
       "      <th>1881-02-01</th>\n",
       "      <td>6.17</td>\n",
       "      <td>0.27</td>\n",
       "      <td>0.4817</td>\n",
       "      <td>9.51459</td>\n",
       "      <td>1881.12</td>\n",
       "      <td>3.69333</td>\n",
       "      <td>168.444</td>\n",
       "      <td>7.37114</td>\n",
       "      <td>312.766</td>\n",
       "      <td>13.1507</td>\n",
       "      <td>24.4181</td>\n",
       "      <td>18.1473</td>\n",
       "      <td>23.6555</td>\n",
       "      <td>12.8088</td>\n",
       "    </tr>\n",
       "    <tr>\n",
       "      <th>1881-03-01</th>\n",
       "      <td>6.24</td>\n",
       "      <td>0.275</td>\n",
       "      <td>0.4775</td>\n",
       "      <td>9.51459</td>\n",
       "      <td>1881.21</td>\n",
       "      <td>3.68667</td>\n",
       "      <td>170.355</td>\n",
       "      <td>7.50764</td>\n",
       "      <td>317.476</td>\n",
       "      <td>13.036</td>\n",
       "      <td>24.2941</td>\n",
       "      <td>18.2701</td>\n",
       "      <td>23.7677</td>\n",
       "      <td>13.0681</td>\n",
       "    </tr>\n",
       "    <tr>\n",
       "      <th>1881-04-01</th>\n",
       "      <td>6.22</td>\n",
       "      <td>0.28</td>\n",
       "      <td>0.4733</td>\n",
       "      <td>9.60967</td>\n",
       "      <td>1881.29</td>\n",
       "      <td>3.68</td>\n",
       "      <td>168.129</td>\n",
       "      <td>7.56851</td>\n",
       "      <td>314.503</td>\n",
       "      <td>12.7935</td>\n",
       "      <td>23.9315</td>\n",
       "      <td>17.9501</td>\n",
       "      <td>23.3089</td>\n",
       "      <td>13.1418</td>\n",
       "    </tr>\n",
       "    <tr>\n",
       "      <th>1881-05-01</th>\n",
       "      <td>6.5</td>\n",
       "      <td>0.285</td>\n",
       "      <td>0.4692</td>\n",
       "      <td>9.51459</td>\n",
       "      <td>1881.37</td>\n",
       "      <td>3.67333</td>\n",
       "      <td>177.453</td>\n",
       "      <td>7.78064</td>\n",
       "      <td>333.158</td>\n",
       "      <td>12.8094</td>\n",
       "      <td>24.0489</td>\n",
       "      <td>18.8697</td>\n",
       "      <td>24.4567</td>\n",
       "      <td>13.8534</td>\n",
       "    </tr>\n",
       "  </tbody>\n",
       "</table>\n",
       "</div>"
      ],
      "text/plain": [
       "           Price Dividends Earnings      CPI Date Fraction  \\\n",
       "Date                                                         \n",
       "1881-01-01  6.19     0.265   0.4858  9.41942       1881.04   \n",
       "1881-02-01  6.17      0.27   0.4817  9.51459       1881.12   \n",
       "1881-03-01  6.24     0.275   0.4775  9.51459       1881.21   \n",
       "1881-04-01  6.22      0.28   0.4733  9.60967       1881.29   \n",
       "1881-05-01   6.5     0.285   0.4692  9.51459       1881.37   \n",
       "\n",
       "           Long Interest Rate GS10 Real price Real Dividend  \\\n",
       "Date                                                          \n",
       "1881-01-01                     3.7    170.697       7.30773   \n",
       "1881-02-01                 3.69333    168.444       7.37114   \n",
       "1881-03-01                 3.68667    170.355       7.50764   \n",
       "1881-04-01                    3.68    168.129       7.56851   \n",
       "1881-05-01                 3.67333    177.453       7.78064   \n",
       "\n",
       "           Real Total Return Price Real Earnings Real TR Scaled Earnings  \\\n",
       "Date                                                                       \n",
       "1881-01-01                 315.799       13.3966                 24.7843   \n",
       "1881-02-01                 312.766       13.1507                 24.4181   \n",
       "1881-03-01                 317.476        13.036                 24.2941   \n",
       "1881-04-01                 314.503       12.7935                 23.9315   \n",
       "1881-05-01                 333.158       12.8094                 24.0489   \n",
       "\n",
       "           CAPE ratio TR CAPE ratio P/E ratio  \n",
       "Date                                           \n",
       "1881-01-01     18.474       24.1351   12.7419  \n",
       "1881-02-01    18.1473       23.6555   12.8088  \n",
       "1881-03-01    18.2701       23.7677   13.0681  \n",
       "1881-04-01    17.9501       23.3089   13.1418  \n",
       "1881-05-01    18.8697       24.4567   13.8534  "
      ]
     },
     "execution_count": 405,
     "metadata": {},
     "output_type": "execute_result"
    }
   ],
   "source": [
    "print(df.shape)\n",
    "df.head()"
   ]
  },
  {
   "cell_type": "code",
   "execution_count": 402,
   "metadata": {},
   "outputs": [],
   "source": [
    "df[\"Date\"] = pd.to_datetime(df[\"Date\"], format='%Y.%m')\n",
    "df = df.set_index(\"Date\")"
   ]
  },
  {
   "cell_type": "code",
   "execution_count": 418,
   "metadata": {},
   "outputs": [
    {
     "data": {
      "image/png": "[encoded data removed]",
      "text/plain": [
       "<Figure size 432x288 with 1 Axes>"
      ]
     },
     "metadata": {
      "needs_background": "light"
     },
     "output_type": "display_data"
    },
    {
     "data": {
      "image/png": "[encoded data removed]",
      "text/plain": [
       "<Figure size 432x288 with 1 Axes>"
      ]
     },
     "metadata": {
      "needs_background": "light"
     },
     "output_type": "display_data"
    }
   ],
   "source": [
    "df[\"Price\"].plot()\n",
    "plt.title(\"S&P500 Composite - Historical Prices\")\n",
    "plt.xlabel(\"Date\")\n",
    "plt.ylabel(\"Price\")\n",
    "plt.show()\n",
    "df[[\"P/E ratio\", \"CAPE ratio\"]].plot()\n",
    "plt.title(\"S&P500 Composite - P/E ratio and CAPE ratio\")\n",
    "plt.xlabel(\"Date\")\n",
    "plt.ylabel(\"P/E ratio\")\n",
    "plt.show()"
   ]
  },
  {
   "cell_type": "code",
   "execution_count": null,
   "metadata": {},
   "outputs": [],
   "source": []
  }
 ],
 "metadata": {
  "kernelspec": {
   "display_name": "Python 3",
   "language": "python",
   "name": "python3"
  },
  "language_info": {
   "codemirror_mode": {
    "name": "ipython",
    "version": 3
   },
   "file_extension": ".py",
   "mimetype": "text/x-python",
   "name": "python",
   "nbconvert_exporter": "python",
   "pygments_lexer": "ipython3",
   "version": "3.7.7"
  }
 },
 "nbformat": 4,
 "nbformat_minor": 4
}
