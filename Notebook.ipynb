{
 "cells": [
  {
   "cell_type": "markdown",
   "metadata": {},
   "source": [
    "# P/E ratio and Stock Market return"
   ]
  },
  {
   "cell_type": "markdown",
   "metadata": {},
   "source": [
    "This project's goal is to show the close relationship between P/E ratios in a given year and the return in the next 10 years from that given year.\n",
    "This data set consists of monthly stock price, dividends, and earnings data and the consumer price index (to allow conversion to real values), all starting January 1871.\n",
    "\n",
    "I am using a Data set from Robert J. Shiller. http://www.econ.yale.edu/~shiller/data.htm.\n",
    "\n",
    "Emanuele Corà"
   ]
  },
  {
   "cell_type": "code",
   "execution_count": 264,
   "metadata": {},
   "outputs": [],
   "source": [
    "import pandas as pd\n",
    "import numpy as np\n",
    "import matplotlib.pyplot as plt"
   ]
  },
  {
   "cell_type": "code",
   "execution_count": 265,
   "metadata": {},
   "outputs": [],
   "source": [
    "df = pd.read_excel(\"ie_data.xls\", sheet_name=\"Data\", encoding=\"utf-8\")"
   ]
  },
  {
   "cell_type": "code",
   "execution_count": 267,
   "metadata": {},
   "outputs": [],
   "source": [
    "df.columns = [\"Date\", \"Price\", \"Dividends\", \"Earnings\", \"CPI\", \"Date Fraction\", \"Long Interest Rate GS10\", \n",
    "              \"Real price\", \"Real Dividend\", \"Real Total Return Price\", \"Real Earnings\", \"Real TR Scaled Earnings\", \n",
    "             \"CAPE ratio\", \"NAN1\", \"TR CAPE ratio\", \"NAN2\"]"
   ]
  },
  {
   "cell_type": "code",
   "execution_count": 228,
   "metadata": {},
   "outputs": [],
   "source": [
    "df = df[[\"Date\", \"Price\", \"Dividends\", \"Earnings\", \"Long Interest Rate GS10\", \"CAPE ratio\"]]"
   ]
  },
  {
   "cell_type": "code",
   "execution_count": 229,
   "metadata": {},
   "outputs": [],
   "source": [
    "df.dropna(inplace=True)"
   ]
  },
  {
   "cell_type": "code",
   "execution_count": 230,
   "metadata": {},
   "outputs": [],
   "source": [
    "df.drop([6], inplace=True)"
   ]
  },
  {
   "cell_type": "code",
   "execution_count": 231,
   "metadata": {},
   "outputs": [
    {
     "data": {
      "text/html": [
       "<div>\n",
       "<style scoped>\n",
       "    .dataframe tbody tr th:only-of-type {\n",
       "        vertical-align: middle;\n",
       "    }\n",
       "\n",
       "    .dataframe tbody tr th {\n",
       "        vertical-align: top;\n",
       "    }\n",
       "\n",
       "    .dataframe thead th {\n",
       "        text-align: right;\n",
       "    }\n",
       "</style>\n",
       "<table border=\"1\" class=\"dataframe\">\n",
       "  <thead>\n",
       "    <tr style=\"text-align: right;\">\n",
       "      <th></th>\n",
       "      <th>Date</th>\n",
       "      <th>Price</th>\n",
       "      <th>Dividends</th>\n",
       "      <th>Earnings</th>\n",
       "      <th>Long Interest Rate GS10</th>\n",
       "      <th>CAPE ratio</th>\n",
       "    </tr>\n",
       "  </thead>\n",
       "  <tbody>\n",
       "    <tr>\n",
       "      <th>127</th>\n",
       "      <td>1881.01</td>\n",
       "      <td>6.19</td>\n",
       "      <td>0.265</td>\n",
       "      <td>0.4858</td>\n",
       "      <td>3.7</td>\n",
       "      <td>18.474</td>\n",
       "    </tr>\n",
       "    <tr>\n",
       "      <th>128</th>\n",
       "      <td>1881.02</td>\n",
       "      <td>6.17</td>\n",
       "      <td>0.27</td>\n",
       "      <td>0.4817</td>\n",
       "      <td>3.69333</td>\n",
       "      <td>18.1473</td>\n",
       "    </tr>\n",
       "    <tr>\n",
       "      <th>129</th>\n",
       "      <td>1881.03</td>\n",
       "      <td>6.24</td>\n",
       "      <td>0.275</td>\n",
       "      <td>0.4775</td>\n",
       "      <td>3.68667</td>\n",
       "      <td>18.2701</td>\n",
       "    </tr>\n",
       "    <tr>\n",
       "      <th>130</th>\n",
       "      <td>1881.04</td>\n",
       "      <td>6.22</td>\n",
       "      <td>0.28</td>\n",
       "      <td>0.4733</td>\n",
       "      <td>3.68</td>\n",
       "      <td>17.9501</td>\n",
       "    </tr>\n",
       "    <tr>\n",
       "      <th>131</th>\n",
       "      <td>1881.05</td>\n",
       "      <td>6.5</td>\n",
       "      <td>0.285</td>\n",
       "      <td>0.4692</td>\n",
       "      <td>3.67333</td>\n",
       "      <td>18.8697</td>\n",
       "    </tr>\n",
       "    <tr>\n",
       "      <th>...</th>\n",
       "      <td>...</td>\n",
       "      <td>...</td>\n",
       "      <td>...</td>\n",
       "      <td>...</td>\n",
       "      <td>...</td>\n",
       "      <td>...</td>\n",
       "    </tr>\n",
       "    <tr>\n",
       "      <th>1796</th>\n",
       "      <td>2020.02</td>\n",
       "      <td>3277.31</td>\n",
       "      <td>59.1337</td>\n",
       "      <td>124.043</td>\n",
       "      <td>1.5</td>\n",
       "      <td>30.7297</td>\n",
       "    </tr>\n",
       "    <tr>\n",
       "      <th>1797</th>\n",
       "      <td>2020.03</td>\n",
       "      <td>2652.39</td>\n",
       "      <td>59.5806</td>\n",
       "      <td>116.33</td>\n",
       "      <td>0.87</td>\n",
       "      <td>24.8172</td>\n",
       "    </tr>\n",
       "    <tr>\n",
       "      <th>1798</th>\n",
       "      <td>2020.04</td>\n",
       "      <td>2761.98</td>\n",
       "      <td>59.6137</td>\n",
       "      <td>110.083</td>\n",
       "      <td>0.66</td>\n",
       "      <td>25.9274</td>\n",
       "    </tr>\n",
       "    <tr>\n",
       "      <th>1799</th>\n",
       "      <td>2020.05</td>\n",
       "      <td>2919.61</td>\n",
       "      <td>59.6469</td>\n",
       "      <td>103.103</td>\n",
       "      <td>0.67</td>\n",
       "      <td>27.3296</td>\n",
       "    </tr>\n",
       "    <tr>\n",
       "      <th>1800</th>\n",
       "      <td>2020.06</td>\n",
       "      <td>3104.66</td>\n",
       "      <td>59.68</td>\n",
       "      <td>96.49</td>\n",
       "      <td>0.73</td>\n",
       "      <td>28.8436</td>\n",
       "    </tr>\n",
       "  </tbody>\n",
       "</table>\n",
       "<p>1674 rows × 6 columns</p>\n",
       "</div>"
      ],
      "text/plain": [
       "         Date    Price Dividends Earnings Long Interest Rate GS10 CAPE ratio\n",
       "127   1881.01     6.19     0.265   0.4858                     3.7     18.474\n",
       "128   1881.02     6.17      0.27   0.4817                 3.69333    18.1473\n",
       "129   1881.03     6.24     0.275   0.4775                 3.68667    18.2701\n",
       "130   1881.04     6.22      0.28   0.4733                    3.68    17.9501\n",
       "131   1881.05      6.5     0.285   0.4692                 3.67333    18.8697\n",
       "...       ...      ...       ...      ...                     ...        ...\n",
       "1796  2020.02  3277.31   59.1337  124.043                     1.5    30.7297\n",
       "1797  2020.03  2652.39   59.5806   116.33                    0.87    24.8172\n",
       "1798  2020.04  2761.98   59.6137  110.083                    0.66    25.9274\n",
       "1799  2020.05  2919.61   59.6469  103.103                    0.67    27.3296\n",
       "1800  2020.06  3104.66     59.68    96.49                    0.73    28.8436\n",
       "\n",
       "[1674 rows x 6 columns]"
      ]
     },
     "execution_count": 231,
     "metadata": {},
     "output_type": "execute_result"
    }
   ],
   "source": [
    "df"
   ]
  },
  {
   "cell_type": "code",
   "execution_count": 232,
   "metadata": {},
   "outputs": [],
   "source": [
    "df[\"P/E ratio\"] = df[\"Price\"] / df[\"Earnings\"]"
   ]
  },
  {
   "cell_type": "code",
   "execution_count": 233,
   "metadata": {},
   "outputs": [],
   "source": [
    "df['Date'] = df['Date'].astype(str)"
   ]
  },
  {
   "cell_type": "code",
   "execution_count": 234,
   "metadata": {},
   "outputs": [],
   "source": [
    "df[\"len\"] = df[\"Date\"].apply(len)\n",
    "df[\"Date\"] = df[\"Date\"].where(df[\"len\"] == 7, df[\"Date\"] + \"0\")"
   ]
  },
  {
   "cell_type": "code",
   "execution_count": 235,
   "metadata": {},
   "outputs": [],
   "source": [
    "df.drop(columns=\"len\", inplace=True)"
   ]
  },
  {
   "cell_type": "code",
   "execution_count": 236,
   "metadata": {},
   "outputs": [
    {
     "name": "stdout",
     "output_type": "stream",
     "text": [
      "(1674, 7)\n"
     ]
    },
    {
     "data": {
      "text/html": [
       "<div>\n",
       "<style scoped>\n",
       "    .dataframe tbody tr th:only-of-type {\n",
       "        vertical-align: middle;\n",
       "    }\n",
       "\n",
       "    .dataframe tbody tr th {\n",
       "        vertical-align: top;\n",
       "    }\n",
       "\n",
       "    .dataframe thead th {\n",
       "        text-align: right;\n",
       "    }\n",
       "</style>\n",
       "<table border=\"1\" class=\"dataframe\">\n",
       "  <thead>\n",
       "    <tr style=\"text-align: right;\">\n",
       "      <th></th>\n",
       "      <th>Date</th>\n",
       "      <th>Price</th>\n",
       "      <th>Dividends</th>\n",
       "      <th>Earnings</th>\n",
       "      <th>Long Interest Rate GS10</th>\n",
       "      <th>CAPE ratio</th>\n",
       "      <th>P/E ratio</th>\n",
       "    </tr>\n",
       "  </thead>\n",
       "  <tbody>\n",
       "    <tr>\n",
       "      <th>127</th>\n",
       "      <td>1881.01</td>\n",
       "      <td>6.19</td>\n",
       "      <td>0.265</td>\n",
       "      <td>0.4858</td>\n",
       "      <td>3.7</td>\n",
       "      <td>18.474</td>\n",
       "      <td>12.7419</td>\n",
       "    </tr>\n",
       "    <tr>\n",
       "      <th>128</th>\n",
       "      <td>1881.02</td>\n",
       "      <td>6.17</td>\n",
       "      <td>0.27</td>\n",
       "      <td>0.4817</td>\n",
       "      <td>3.69333</td>\n",
       "      <td>18.1473</td>\n",
       "      <td>12.8088</td>\n",
       "    </tr>\n",
       "    <tr>\n",
       "      <th>129</th>\n",
       "      <td>1881.03</td>\n",
       "      <td>6.24</td>\n",
       "      <td>0.275</td>\n",
       "      <td>0.4775</td>\n",
       "      <td>3.68667</td>\n",
       "      <td>18.2701</td>\n",
       "      <td>13.0681</td>\n",
       "    </tr>\n",
       "    <tr>\n",
       "      <th>130</th>\n",
       "      <td>1881.04</td>\n",
       "      <td>6.22</td>\n",
       "      <td>0.28</td>\n",
       "      <td>0.4733</td>\n",
       "      <td>3.68</td>\n",
       "      <td>17.9501</td>\n",
       "      <td>13.1418</td>\n",
       "    </tr>\n",
       "    <tr>\n",
       "      <th>131</th>\n",
       "      <td>1881.05</td>\n",
       "      <td>6.5</td>\n",
       "      <td>0.285</td>\n",
       "      <td>0.4692</td>\n",
       "      <td>3.67333</td>\n",
       "      <td>18.8697</td>\n",
       "      <td>13.8534</td>\n",
       "    </tr>\n",
       "  </tbody>\n",
       "</table>\n",
       "</div>"
      ],
      "text/plain": [
       "        Date Price Dividends Earnings Long Interest Rate GS10 CAPE ratio  \\\n",
       "127  1881.01  6.19     0.265   0.4858                     3.7     18.474   \n",
       "128  1881.02  6.17      0.27   0.4817                 3.69333    18.1473   \n",
       "129  1881.03  6.24     0.275   0.4775                 3.68667    18.2701   \n",
       "130  1881.04  6.22      0.28   0.4733                    3.68    17.9501   \n",
       "131  1881.05   6.5     0.285   0.4692                 3.67333    18.8697   \n",
       "\n",
       "    P/E ratio  \n",
       "127   12.7419  \n",
       "128   12.8088  \n",
       "129   13.0681  \n",
       "130   13.1418  \n",
       "131   13.8534  "
      ]
     },
     "execution_count": 236,
     "metadata": {},
     "output_type": "execute_result"
    }
   ],
   "source": [
    "print(df.shape)\n",
    "df.head()"
   ]
  },
  {
   "cell_type": "code",
   "execution_count": 237,
   "metadata": {},
   "outputs": [],
   "source": [
    "df[\"Date\"] = pd.to_datetime(df[\"Date\"], format='%Y.%m')\n",
    "df = df.set_index(\"Date\")"
   ]
  },
  {
   "cell_type": "code",
   "execution_count": 238,
   "metadata": {},
   "outputs": [],
   "source": [
    "df30y = df.tail(366)\n",
    "df_ = df.head(1674-366)"
   ]
  },
  {
   "cell_type": "code",
   "execution_count": 239,
   "metadata": {
    "scrolled": false
   },
   "outputs": [
    {
     "data": {
      "image/png": "[encoded data removed]",
      "text/plain": [
       "<Figure size 432x288 with 1 Axes>"
      ]
     },
     "metadata": {
      "needs_background": "light"
     },
     "output_type": "display_data"
    },
    {
     "data": {
      "image/png": "[encoded data removed]",
      "text/plain": [
       "<Figure size 432x288 with 1 Axes>"
      ]
     },
     "metadata": {
      "needs_background": "light"
     },
     "output_type": "display_data"
    },
    {
     "name": "stdout",
     "output_type": "stream",
     "text": [
      "The average P/E ratio for stocks in the S&P500 has been:  16.123217668551018\n",
      "The average P/E ratio (1881-1990):  13.834232941121705\n",
      "The average P/E ratio (1990-2020):  24.303523743626197\n"
     ]
    },
    {
     "data": {
      "image/png": "[encoded data removed]",
      "text/plain": [
       "<Figure size 432x288 with 1 Axes>"
      ]
     },
     "metadata": {
      "needs_background": "light"
     },
     "output_type": "display_data"
    },
    {
     "name": "stdout",
     "output_type": "stream",
     "text": [
      "The highest level in Long Interest Rates GS10 is  15.32  in  [datetime.date(1981, 9, 1)]\n"
     ]
    },
    {
     "data": {
      "image/png": "[encoded data removed]",
      "text/plain": [
       "<Figure size 432x288 with 1 Axes>"
      ]
     },
     "metadata": {
      "needs_background": "light"
     },
     "output_type": "display_data"
    },
    {
     "name": "stdout",
     "output_type": "stream",
     "text": [
      "The highest P/E ratio in the last 30 years is:  123.73080438756855  in [datetime.date(2009, 5, 1)]\n"
     ]
    }
   ],
   "source": [
    "df[\"Price\"].plot()\n",
    "plt.title(\"1) S&P500 Composite - Historical Prices\")\n",
    "plt.xlabel(\"Date\")\n",
    "plt.ylabel(\"Price\")\n",
    "plt.show()\n",
    "df[\"P/E ratio\"].plot()\n",
    "plt.title(\"2) S&P500 Composite - P/E ratio\")\n",
    "plt.xlabel(\"Date\")\n",
    "plt.ylabel(\"P/E ratio\")\n",
    "plt.show()\n",
    "pe_avg = df[\"P/E ratio\"].mean()\n",
    "print(\"The average P/E ratio for stocks in the S&P500 has been: \", pe_avg)\n",
    "print(\"The average P/E ratio (1881-1990): \", df_[\"P/E ratio\"].mean())\n",
    "print(\"The average P/E ratio (1990-2020): \", df30y[\"P/E ratio\"].mean())\n",
    "df[\"Long Interest Rate GS10\"].plot()\n",
    "plt.title(\"3) S&P500 Composite - Long Interest Rate GS10\")\n",
    "plt.xlabel(\"Date\")\n",
    "plt.ylabel(\"Long Interest Rate GS10\")\n",
    "plt.show()\n",
    "interest_rates_max = df[\"Long Interest Rate GS10\"].max()\n",
    "print(\"The highest level in Long Interest Rates GS10 is \", \n",
    "      interest_rates_max, \" in \" ,\n",
    "      df.index.date[df[\"Long Interest Rate GS10\"] == interest_rates_max])\n",
    "\n",
    "thirty_year_max = df30y[\"P/E ratio\"].max()\n",
    "date_30y_max = df30y.index.date[df30y[\"P/E ratio\"] == thirty_year_max]\n",
    "df30y[\"P/E ratio\"].plot()\n",
    "plt.scatter(date_30y_max, thirty_year_max, color=\"red\")\n",
    "plt.title(\"4) S&P500 Composite - P/E ratio since 1990\")\n",
    "plt.xlabel(\"Date\")\n",
    "plt.ylabel(\"P/E ratio\")\n",
    "plt.show()\n",
    "print(\"The highest P/E ratio in the last 30 years is: \", thirty_year_max, \" in\",\n",
    "      date_30y_max)"
   ]
  },
  {
   "cell_type": "markdown",
   "metadata": {},
   "source": [
    "The image 1) shows the historical S&P500 Composite's prices since 1881. We can see in the last 30 years there were 3 bull markets and 2 market crashes during the dot-com bubble in early 2000s and the financial crisis in 2008.\n",
    "\n",
    "The second image shows P/E ratio of the S&P500 in the same time period. The P/E ratio is equal to the price divided by the TTM (trailing-twelve-months) earnings and can be used by investors to understand whether a stock or the entire market is or is not overvalued.\n",
    "For example, a above average S&P500, P/E ratio may indicate that the market is overvalued. Instead, when P/E ratio is below average, the market might be undervalued. \n",
    "We cannot consider P/E ratio as an absolute metric because the market is influenced heavily by other factors.\n",
    "Interest rates can help us understand the reason why P/E ratio in the last 30 years has been usually higher than the previous P/E ratios (The average P/E ratio from 1881 to 1990 had been 13.8 while from 1990 to 2020 has been 24.3).\n",
    "Interest rates peaked in 1981 and had been decreasing steadily until 2020 when they hit almost 0. But, what does interest rates mean for stocks? \n",
    "When the interest are lower, future cash flow are discounted with a lower discount rate to find the present value of those future cash flows. That makes future cash flows more valuable. In 2020 we have interest rates near to 0, which means that the risk-free rate (10 year treasury bond's yield) is almost 0, which means the discount rate is equal to the risk premium.\n",
    "If there is no return in Tresury Bonds (or a negative real return) investors have to invest in equity. That could cause high valuation like the one we are seeing in the last 30 years.\n",
    "\n",
    "P/E ratio is not the better metrics to use to evaluate the market. We can see that the highest P/E ratio in the last 30 years has been in 2009 at a ratio of 123. The markets seem to be extremely overvalued but, instead, it was just the beginning of one of the greatest bull markets in history that last until March 2020, when the market crashed due to Covid-19 pandemic.\n",
    "\n",
    "Another metric has performed better than P/E ratio. This metric is the CAPE ratio."
   ]
  },
  {
   "cell_type": "code",
   "execution_count": 240,
   "metadata": {},
   "outputs": [
    {
     "data": {
      "image/png": "[encoded data removed]",
      "text/plain": [
       "<Figure size 432x288 with 1 Axes>"
      ]
     },
     "metadata": {
      "needs_background": "light"
     },
     "output_type": "display_data"
    },
    {
     "name": "stdout",
     "output_type": "stream",
     "text": [
      "The CAPE ratio was at its lows in [datetime.date(1920, 12, 1)]  at  4.7842410450832515\n",
      "The CAPE ratio was at its lows in [datetime.date(1999, 12, 1)]  at  44.19793976104054\n",
      "In 1929 the market peaked at 32.563788598776696\n"
     ]
    }
   ],
   "source": [
    "fig, ax = plt.subplots()\n",
    "\n",
    "min_ = df[\"CAPE ratio\"].min()\n",
    "date_min = df.index.date[df[\"CAPE ratio\"] == min_]\n",
    "max_ = df[\"CAPE ratio\"].max()\n",
    "date_max = df.index.date[df[\"CAPE ratio\"] == max_]\n",
    "crash_29_max = df[\"CAPE ratio\"].where((df.index.year == 1929)).max()\n",
    "\n",
    "ax.plot(df[\"CAPE ratio\"])\n",
    "ax.scatter(date_min, min_, color=\"red\", label=\"MIN\")\n",
    "ax.scatter(date_max, max_, color=\"orange\", label=\"MAX\")\n",
    "plt.title(\"S&P500 Composite - CAPE ratio\")\n",
    "plt.xlabel(\"Date\")\n",
    "plt.ylabel(\"CAPE ratio\")\n",
    "ax.legend()\n",
    "plt.show()\n",
    "print(\"The CAPE ratio was at its lows in\", date_min, \" at \", min_)\n",
    "print(\"The CAPE ratio was at its lows in\", date_max, \" at \", max_)\n",
    "print(\"In 1929 the market peaked at\", crash_29_max)"
   ]
  },
  {
   "cell_type": "markdown",
   "metadata": {},
   "source": [
    "The CAPE ratio or Cyclically Adjusted P/E ratio was popularized by Robert J. Shiller at the Yale University because it predicted with accuracy whether the market was overvalued or not.\n",
    "The CAPE ratio is equal to P/E ratio but it uses real earnings per share(adjusted for inflation) over a ten year period, in order to smooth out fluctuation in profit that occurs in the business cycle.\n",
    "When the CAPE ratio is high (for example, in 1929, 2000) it means that the market is overvalued. Instead when the CAPE ratio is low, the market is undervalued.\n",
    "The CAPE ratio predicted the second greatest bull market in history that ended in 1929 when CAPE ratio peaked at 32.5.\n",
    "In the early 1980s the market started his greated bull market that lasted until 2000 when the market crashed after the dot-com bubble that brought CAPE ratio at an insane level of 44.2 in 1999.\n",
    "As we can see CAPE ratio performed very well at evaluating the market."
   ]
  },
  {
   "cell_type": "code",
   "execution_count": 241,
   "metadata": {},
   "outputs": [],
   "source": [
    "df[\"Year\"] = df.index.year"
   ]
  },
  {
   "cell_type": "code",
   "execution_count": 242,
   "metadata": {},
   "outputs": [
    {
     "data": {
      "text/html": [
       "<div>\n",
       "<style scoped>\n",
       "    .dataframe tbody tr th:only-of-type {\n",
       "        vertical-align: middle;\n",
       "    }\n",
       "\n",
       "    .dataframe tbody tr th {\n",
       "        vertical-align: top;\n",
       "    }\n",
       "\n",
       "    .dataframe thead th {\n",
       "        text-align: right;\n",
       "    }\n",
       "</style>\n",
       "<table border=\"1\" class=\"dataframe\">\n",
       "  <thead>\n",
       "    <tr style=\"text-align: right;\">\n",
       "      <th></th>\n",
       "      <th>Dividends</th>\n",
       "    </tr>\n",
       "    <tr>\n",
       "      <th>Year</th>\n",
       "      <th></th>\n",
       "    </tr>\n",
       "  </thead>\n",
       "  <tbody>\n",
       "    <tr>\n",
       "      <th>1881</th>\n",
       "      <td>3.510000</td>\n",
       "    </tr>\n",
       "    <tr>\n",
       "      <th>1882</th>\n",
       "      <td>3.840000</td>\n",
       "    </tr>\n",
       "    <tr>\n",
       "      <th>1883</th>\n",
       "      <td>3.905000</td>\n",
       "    </tr>\n",
       "    <tr>\n",
       "      <th>1884</th>\n",
       "      <td>3.830000</td>\n",
       "    </tr>\n",
       "    <tr>\n",
       "      <th>1885</th>\n",
       "      <td>3.265000</td>\n",
       "    </tr>\n",
       "    <tr>\n",
       "      <th>...</th>\n",
       "      <td>...</td>\n",
       "    </tr>\n",
       "    <tr>\n",
       "      <th>2015</th>\n",
       "      <td>501.400000</td>\n",
       "    </tr>\n",
       "    <tr>\n",
       "      <th>2016</th>\n",
       "      <td>534.900000</td>\n",
       "    </tr>\n",
       "    <tr>\n",
       "      <th>2017</th>\n",
       "      <td>568.870000</td>\n",
       "    </tr>\n",
       "    <tr>\n",
       "      <th>2018</th>\n",
       "      <td>616.420000</td>\n",
       "    </tr>\n",
       "    <tr>\n",
       "      <th>2019</th>\n",
       "      <td>674.941824</td>\n",
       "    </tr>\n",
       "  </tbody>\n",
       "</table>\n",
       "<p>139 rows × 1 columns</p>\n",
       "</div>"
      ],
      "text/plain": [
       "       Dividends\n",
       "Year            \n",
       "1881    3.510000\n",
       "1882    3.840000\n",
       "1883    3.905000\n",
       "1884    3.830000\n",
       "1885    3.265000\n",
       "...          ...\n",
       "2015  501.400000\n",
       "2016  534.900000\n",
       "2017  568.870000\n",
       "2018  616.420000\n",
       "2019  674.941824\n",
       "\n",
       "[139 rows x 1 columns]"
      ]
     },
     "execution_count": 242,
     "metadata": {},
     "output_type": "execute_result"
    }
   ],
   "source": [
    "year = df.groupby([\"Year\"])\n",
    "dividends = year[\"Dividends\"].sum()\n",
    "years = df[\"Year\"].drop_duplicates()\n",
    "year_df = pd.DataFrame(dividends, years)\n",
    "year_df.drop(year_df.index[-1], inplace=True)\n",
    "year_df"
   ]
  },
  {
   "cell_type": "code",
   "execution_count": 243,
   "metadata": {},
   "outputs": [
    {
     "data": {
      "text/html": [
       "<div>\n",
       "<style scoped>\n",
       "    .dataframe tbody tr th:only-of-type {\n",
       "        vertical-align: middle;\n",
       "    }\n",
       "\n",
       "    .dataframe tbody tr th {\n",
       "        vertical-align: top;\n",
       "    }\n",
       "\n",
       "    .dataframe thead th {\n",
       "        text-align: right;\n",
       "    }\n",
       "</style>\n",
       "<table border=\"1\" class=\"dataframe\">\n",
       "  <thead>\n",
       "    <tr style=\"text-align: right;\">\n",
       "      <th></th>\n",
       "      <th>Price</th>\n",
       "      <th>Dividends</th>\n",
       "      <th>Earnings</th>\n",
       "      <th>Long Interest Rate GS10</th>\n",
       "      <th>CAPE ratio</th>\n",
       "      <th>P/E ratio</th>\n",
       "      <th>Year</th>\n",
       "    </tr>\n",
       "    <tr>\n",
       "      <th>Date</th>\n",
       "      <th></th>\n",
       "      <th></th>\n",
       "      <th></th>\n",
       "      <th></th>\n",
       "      <th></th>\n",
       "      <th></th>\n",
       "      <th></th>\n",
       "    </tr>\n",
       "  </thead>\n",
       "  <tbody>\n",
       "    <tr>\n",
       "      <th>1881-01-01</th>\n",
       "      <td>6.19</td>\n",
       "      <td>0.265</td>\n",
       "      <td>0.4858</td>\n",
       "      <td>3.7</td>\n",
       "      <td>18.474</td>\n",
       "      <td>12.7419</td>\n",
       "      <td>1881</td>\n",
       "    </tr>\n",
       "    <tr>\n",
       "      <th>1881-02-01</th>\n",
       "      <td>6.17</td>\n",
       "      <td>0.27</td>\n",
       "      <td>0.4817</td>\n",
       "      <td>3.69333</td>\n",
       "      <td>18.1473</td>\n",
       "      <td>12.8088</td>\n",
       "      <td>1881</td>\n",
       "    </tr>\n",
       "    <tr>\n",
       "      <th>1881-03-01</th>\n",
       "      <td>6.24</td>\n",
       "      <td>0.275</td>\n",
       "      <td>0.4775</td>\n",
       "      <td>3.68667</td>\n",
       "      <td>18.2701</td>\n",
       "      <td>13.0681</td>\n",
       "      <td>1881</td>\n",
       "    </tr>\n",
       "    <tr>\n",
       "      <th>1881-04-01</th>\n",
       "      <td>6.22</td>\n",
       "      <td>0.28</td>\n",
       "      <td>0.4733</td>\n",
       "      <td>3.68</td>\n",
       "      <td>17.9501</td>\n",
       "      <td>13.1418</td>\n",
       "      <td>1881</td>\n",
       "    </tr>\n",
       "    <tr>\n",
       "      <th>1881-05-01</th>\n",
       "      <td>6.5</td>\n",
       "      <td>0.285</td>\n",
       "      <td>0.4692</td>\n",
       "      <td>3.67333</td>\n",
       "      <td>18.8697</td>\n",
       "      <td>13.8534</td>\n",
       "      <td>1881</td>\n",
       "    </tr>\n",
       "  </tbody>\n",
       "</table>\n",
       "</div>"
      ],
      "text/plain": [
       "           Price Dividends Earnings Long Interest Rate GS10 CAPE ratio  \\\n",
       "Date                                                                     \n",
       "1881-01-01  6.19     0.265   0.4858                     3.7     18.474   \n",
       "1881-02-01  6.17      0.27   0.4817                 3.69333    18.1473   \n",
       "1881-03-01  6.24     0.275   0.4775                 3.68667    18.2701   \n",
       "1881-04-01  6.22      0.28   0.4733                    3.68    17.9501   \n",
       "1881-05-01   6.5     0.285   0.4692                 3.67333    18.8697   \n",
       "\n",
       "           P/E ratio  Year  \n",
       "Date                        \n",
       "1881-01-01   12.7419  1881  \n",
       "1881-02-01   12.8088  1881  \n",
       "1881-03-01   13.0681  1881  \n",
       "1881-04-01   13.1418  1881  \n",
       "1881-05-01   13.8534  1881  "
      ]
     },
     "execution_count": 243,
     "metadata": {},
     "output_type": "execute_result"
    }
   ],
   "source": [
    "df.head()"
   ]
  },
  {
   "cell_type": "code",
   "execution_count": 244,
   "metadata": {},
   "outputs": [],
   "source": [
    "df.reset_index(inplace=True)"
   ]
  },
  {
   "cell_type": "code",
   "execution_count": 245,
   "metadata": {},
   "outputs": [],
   "source": [
    "df.set_index(\"Year\", inplace=True)"
   ]
  },
  {
   "cell_type": "code",
   "execution_count": 247,
   "metadata": {},
   "outputs": [
    {
     "data": {
      "text/plain": [
       "pandas.core.indexes.datetimes.DatetimeIndex"
      ]
     },
     "execution_count": 247,
     "metadata": {},
     "output_type": "execute_result"
    }
   ],
   "source": [
    "y = pd.date_range(start=df[\"Date\"].min(), end=df[\"Date\"].max(), freq=\"Y\")\n",
    "x = pd.date_range(start=df[\"Date\"].min(), end=df[\"Date\"].max(), freq=\"AS\")\n",
    "x = x[:-1]\n",
    "type(x)"
   ]
  },
  {
   "cell_type": "code",
   "execution_count": 248,
   "metadata": {},
   "outputs": [],
   "source": [
    "y = y.to_period('M')"
   ]
  },
  {
   "cell_type": "code",
   "execution_count": 249,
   "metadata": {},
   "outputs": [
    {
     "data": {
      "text/plain": [
       "True"
      ]
     },
     "execution_count": 249,
     "metadata": {},
     "output_type": "execute_result"
    }
   ],
   "source": [
    "len(x) == len(y)"
   ]
  },
  {
   "cell_type": "code",
   "execution_count": 250,
   "metadata": {},
   "outputs": [
    {
     "data": {
      "text/plain": [
       "Year\n",
       "1881    6.01\n",
       "Name: Price, dtype: object"
      ]
     },
     "execution_count": 250,
     "metadata": {},
     "output_type": "execute_result"
    }
   ],
   "source": [
    "df[df[\"Date\"].dt.to_period(\"M\") == y[0]][\"Price\"]"
   ]
  },
  {
   "cell_type": "code",
   "execution_count": 251,
   "metadata": {},
   "outputs": [
    {
     "data": {
      "text/plain": [
       "Year\n",
       "1881    6.19\n",
       "Name: Price, dtype: object"
      ]
     },
     "execution_count": 251,
     "metadata": {},
     "output_type": "execute_result"
    }
   ],
   "source": [
    "df[df[\"Date\"] == x[0]][\"Price\"]"
   ]
  },
  {
   "cell_type": "code",
   "execution_count": 253,
   "metadata": {},
   "outputs": [],
   "source": [
    "starting_price = pd.Series([], dtype=float)\n",
    "ending_price = pd.Series([], dtype=float)\n",
    "for i in range(len(x)):\n",
    "    ending_price = ending_price.append(df[df[\"Date\"].dt.to_period(\"M\") == y[i]][\"Price\"])\n",
    "    starting_price = starting_price.append(df[df[\"Date\"] == x[i]][\"Price\"])"
   ]
  },
  {
   "cell_type": "code",
   "execution_count": 258,
   "metadata": {},
   "outputs": [],
   "source": [
    "year_df[\"Starting Price\"] = starting_price\n",
    "year_df[\"Ending Price\"] = ending_price"
   ]
  },
  {
   "cell_type": "code",
   "execution_count": 260,
   "metadata": {},
   "outputs": [],
   "source": [
    "year_df[\"Annual Total Return\"] = year_df[\"Ending Price\"] - year_df[\"Starting Price\"] + year_df[\"Dividends\"]"
   ]
  },
  {
   "cell_type": "code",
   "execution_count": 262,
   "metadata": {},
   "outputs": [],
   "source": [
    "year_df[\"% Annual Total Return\"] = year_df[\"Annual Total Return\"] / year_df[\"Starting Price\"] * 100"
   ]
  },
  {
   "cell_type": "code",
   "execution_count": 263,
   "metadata": {},
   "outputs": [
    {
     "data": {
      "text/html": [
       "<div>\n",
       "<style scoped>\n",
       "    .dataframe tbody tr th:only-of-type {\n",
       "        vertical-align: middle;\n",
       "    }\n",
       "\n",
       "    .dataframe tbody tr th {\n",
       "        vertical-align: top;\n",
       "    }\n",
       "\n",
       "    .dataframe thead th {\n",
       "        text-align: right;\n",
       "    }\n",
       "</style>\n",
       "<table border=\"1\" class=\"dataframe\">\n",
       "  <thead>\n",
       "    <tr style=\"text-align: right;\">\n",
       "      <th></th>\n",
       "      <th>Dividends</th>\n",
       "      <th>Starting Price</th>\n",
       "      <th>Ending Price</th>\n",
       "      <th>Annual Total Return</th>\n",
       "      <th>% Annual Total Return</th>\n",
       "    </tr>\n",
       "    <tr>\n",
       "      <th>Year</th>\n",
       "      <th></th>\n",
       "      <th></th>\n",
       "      <th></th>\n",
       "      <th></th>\n",
       "      <th></th>\n",
       "    </tr>\n",
       "  </thead>\n",
       "  <tbody>\n",
       "    <tr>\n",
       "      <th>1881</th>\n",
       "      <td>3.510000</td>\n",
       "      <td>6.19</td>\n",
       "      <td>6.01</td>\n",
       "      <td>3.33</td>\n",
       "      <td>53.7964</td>\n",
       "    </tr>\n",
       "    <tr>\n",
       "      <th>1882</th>\n",
       "      <td>3.840000</td>\n",
       "      <td>5.92</td>\n",
       "      <td>5.84</td>\n",
       "      <td>3.76</td>\n",
       "      <td>63.5135</td>\n",
       "    </tr>\n",
       "    <tr>\n",
       "      <th>1883</th>\n",
       "      <td>3.905000</td>\n",
       "      <td>5.81</td>\n",
       "      <td>5.34</td>\n",
       "      <td>3.435</td>\n",
       "      <td>59.1222</td>\n",
       "    </tr>\n",
       "    <tr>\n",
       "      <th>1884</th>\n",
       "      <td>3.830000</td>\n",
       "      <td>5.18</td>\n",
       "      <td>4.34</td>\n",
       "      <td>2.99</td>\n",
       "      <td>57.722</td>\n",
       "    </tr>\n",
       "    <tr>\n",
       "      <th>1885</th>\n",
       "      <td>3.265000</td>\n",
       "      <td>4.24</td>\n",
       "      <td>5.2</td>\n",
       "      <td>4.225</td>\n",
       "      <td>99.6462</td>\n",
       "    </tr>\n",
       "    <tr>\n",
       "      <th>...</th>\n",
       "      <td>...</td>\n",
       "      <td>...</td>\n",
       "      <td>...</td>\n",
       "      <td>...</td>\n",
       "      <td>...</td>\n",
       "    </tr>\n",
       "    <tr>\n",
       "      <th>2015</th>\n",
       "      <td>501.400000</td>\n",
       "      <td>2028.18</td>\n",
       "      <td>2054.08</td>\n",
       "      <td>527.3</td>\n",
       "      <td>25.9987</td>\n",
       "    </tr>\n",
       "    <tr>\n",
       "      <th>2016</th>\n",
       "      <td>534.900000</td>\n",
       "      <td>1918.6</td>\n",
       "      <td>2246.63</td>\n",
       "      <td>862.93</td>\n",
       "      <td>44.9771</td>\n",
       "    </tr>\n",
       "    <tr>\n",
       "      <th>2017</th>\n",
       "      <td>568.870000</td>\n",
       "      <td>2275.12</td>\n",
       "      <td>2664.34</td>\n",
       "      <td>958.09</td>\n",
       "      <td>42.1116</td>\n",
       "    </tr>\n",
       "    <tr>\n",
       "      <th>2018</th>\n",
       "      <td>616.420000</td>\n",
       "      <td>2789.8</td>\n",
       "      <td>2567.31</td>\n",
       "      <td>393.93</td>\n",
       "      <td>14.1204</td>\n",
       "    </tr>\n",
       "    <tr>\n",
       "      <th>2019</th>\n",
       "      <td>674.941824</td>\n",
       "      <td>2607.39</td>\n",
       "      <td>3176.75</td>\n",
       "      <td>1244.3</td>\n",
       "      <td>47.7221</td>\n",
       "    </tr>\n",
       "  </tbody>\n",
       "</table>\n",
       "<p>139 rows × 5 columns</p>\n",
       "</div>"
      ],
      "text/plain": [
       "       Dividends Starting Price Ending Price Annual Total Return  \\\n",
       "Year                                                               \n",
       "1881    3.510000           6.19         6.01                3.33   \n",
       "1882    3.840000           5.92         5.84                3.76   \n",
       "1883    3.905000           5.81         5.34               3.435   \n",
       "1884    3.830000           5.18         4.34                2.99   \n",
       "1885    3.265000           4.24          5.2               4.225   \n",
       "...          ...            ...          ...                 ...   \n",
       "2015  501.400000        2028.18      2054.08               527.3   \n",
       "2016  534.900000         1918.6      2246.63              862.93   \n",
       "2017  568.870000        2275.12      2664.34              958.09   \n",
       "2018  616.420000         2789.8      2567.31              393.93   \n",
       "2019  674.941824        2607.39      3176.75              1244.3   \n",
       "\n",
       "     % Annual Total Return  \n",
       "Year                        \n",
       "1881               53.7964  \n",
       "1882               63.5135  \n",
       "1883               59.1222  \n",
       "1884                57.722  \n",
       "1885               99.6462  \n",
       "...                    ...  \n",
       "2015               25.9987  \n",
       "2016               44.9771  \n",
       "2017               42.1116  \n",
       "2018               14.1204  \n",
       "2019               47.7221  \n",
       "\n",
       "[139 rows x 5 columns]"
      ]
     },
     "execution_count": 263,
     "metadata": {},
     "output_type": "execute_result"
    }
   ],
   "source": [
    "year_df"
   ]
  },
  {
   "cell_type": "code",
   "execution_count": null,
   "metadata": {},
   "outputs": [],
   "source": []
  }
 ],
 "metadata": {
  "kernelspec": {
   "display_name": "Python 3",
   "language": "python",
   "name": "python3"
  },
  "language_info": {
   "codemirror_mode": {
    "name": "ipython",
    "version": 3
   },
   "file_extension": ".py",
   "mimetype": "text/x-python",
   "name": "python",
   "nbconvert_exporter": "python",
   "pygments_lexer": "ipython3",
   "version": "3.7.7"
  }
 },
 "nbformat": 4,
 "nbformat_minor": 4
}
